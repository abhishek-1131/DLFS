{
 "cells": [
  {
   "cell_type": "markdown",
   "id": "ad302e37",
   "metadata": {
    "ExecuteTime": {
     "end_time": "2022-08-19T23:42:35.880776Z",
     "start_time": "2022-08-19T23:42:35.874224Z"
    }
   },
   "source": [
    "### Imports"
   ]
  },
  {
   "cell_type": "code",
   "execution_count": 1,
   "id": "c9561128",
   "metadata": {
    "ExecuteTime": {
     "end_time": "2022-10-13T06:25:50.500609Z",
     "start_time": "2022-10-13T06:25:50.126082Z"
    }
   },
   "outputs": [],
   "source": [
    "import math\n",
    "import numpy as np\n",
    "import matplotlib.pyplot as plt\n",
    "%matplotlib inline"
   ]
  },
  {
   "cell_type": "markdown",
   "id": "ba96a742",
   "metadata": {
    "ExecuteTime": {
     "end_time": "2022-08-19T23:43:14.269494Z",
     "start_time": "2022-08-19T23:43:14.266229Z"
    }
   },
   "source": [
    "### Understanding Derivatives"
   ]
  },
  {
   "cell_type": "code",
   "execution_count": 2,
   "id": "154b790a",
   "metadata": {
    "ExecuteTime": {
     "end_time": "2022-10-13T06:25:50.503541Z",
     "start_time": "2022-10-13T06:25:50.501806Z"
    }
   },
   "outputs": [],
   "source": [
    "def f(x):\n",
    "    return 3*x**2 - 4*x + 5 #sample function"
   ]
  },
  {
   "cell_type": "code",
   "execution_count": 3,
   "id": "0bfe884a",
   "metadata": {
    "ExecuteTime": {
     "end_time": "2022-10-13T06:25:50.507670Z",
     "start_time": "2022-10-13T06:25:50.504593Z"
    }
   },
   "outputs": [
    {
     "data": {
      "text/plain": [
       "20.0"
      ]
     },
     "execution_count": 3,
     "metadata": {},
     "output_type": "execute_result"
    }
   ],
   "source": [
    "f(3.0)"
   ]
  },
  {
   "cell_type": "code",
   "execution_count": 4,
   "id": "a680e57e",
   "metadata": {
    "ExecuteTime": {
     "end_time": "2022-10-13T06:25:50.587334Z",
     "start_time": "2022-10-13T06:25:50.509113Z"
    }
   },
   "outputs": [
    {
     "data": {
      "text/plain": [
       "[<matplotlib.lines.Line2D at 0x118a4b6d0>]"
      ]
     },
     "execution_count": 4,
     "metadata": {},
     "output_type": "execute_result"
    },
    {
     "data": {
      "image/png": "[encoded data removed]",
      "text/plain": [
       "<Figure size 432x288 with 1 Axes>"
      ]
     },
     "metadata": {
      "needs_background": "light"
     },
     "output_type": "display_data"
    }
   ],
   "source": [
    "xs = np.arange(-5,5,0.25)\n",
    "ys = f(xs)\n",
    "plt.plot(xs,ys)"
   ]
  },
  {
   "cell_type": "code",
   "execution_count": 5,
   "id": "b7c37a37",
   "metadata": {
    "ExecuteTime": {
     "end_time": "2022-10-13T06:25:50.591507Z",
     "start_time": "2022-10-13T06:25:50.588966Z"
    }
   },
   "outputs": [],
   "source": [
    "h = 0.0001\n",
    "def derivative_info(x, delta):\n",
    "    print(f\"fn value at x: {f(x)}\")\n",
    "    print(f\"fn value at x+h: {f(x+h)}\")\n",
    "    print(f\"difference in value: {f(x+h) - f(x)}\")\n",
    "    print(f\"slope (strength or rate of change of dependent variable as independent var changes: {(f(x+h)-f(x))/h}\")"
   ]
  },
  {
   "cell_type": "code",
   "execution_count": 6,
   "id": "be41a81b",
   "metadata": {
    "ExecuteTime": {
     "end_time": "2022-10-13T06:25:50.595370Z",
     "start_time": "2022-10-13T06:25:50.592831Z"
    }
   },
   "outputs": [
    {
     "name": "stdout",
     "output_type": "stream",
     "text": [
      "fn value at x: 20\n",
      "fn value at x+h: 20.001400030000006\n",
      "difference in value: 0.0014000300000063248\n",
      "slope (strength or rate of change of dependent variable as independent var changes: 14.000300000063248\n"
     ]
    }
   ],
   "source": [
    "derivative_info(3, h)"
   ]
  },
  {
   "cell_type": "code",
   "execution_count": 7,
   "id": "4b268bc0",
   "metadata": {
    "ExecuteTime": {
     "end_time": "2022-10-13T06:25:50.599075Z",
     "start_time": "2022-10-13T06:25:50.596852Z"
    }
   },
   "outputs": [
    {
     "name": "stdout",
     "output_type": "stream",
     "text": [
      "fn value at x: 44\n",
      "fn value at x+h: 43.99780002999999\n",
      "difference in value: -0.0021999700000066014\n",
      "slope (strength or rate of change of dependent variable as independent var changes: -21.999700000066014\n"
     ]
    }
   ],
   "source": [
    "derivative_info(-3, h)"
   ]
  },
  {
   "cell_type": "markdown",
   "id": "b00d6225",
   "metadata": {},
   "source": [
    "### Value class for computational graph "
   ]
  },
  {
   "cell_type": "code",
   "execution_count": 8,
   "id": "bc3b99fe",
   "metadata": {
    "ExecuteTime": {
     "end_time": "2022-10-13T06:25:50.607537Z",
     "start_time": "2022-10-13T06:25:50.600525Z"
    }
   },
   "outputs": [],
   "source": [
    "class Value:\n",
    "    \n",
    "    def __init__(self, data, _children=(), _op='', label=''):\n",
    "        self.data = data\n",
    "        self.grad = 0.0 #at initializtion, op is not affected by Value object\n",
    "        self._backward = lambda: None # None for leaf nodes in the graph\n",
    "        self._prev = set(_children)\n",
    "        self._op = _op\n",
    "        self.label = label\n",
    "        \n",
    "    def __repr__(self):\n",
    "        return f\"Value(data={self.data})\"\n",
    "    \n",
    "    def __add__(self, other):\n",
    "        out = Value(self.data + other.data, (self, other), '+')\n",
    "        def _backward():\n",
    "            self.grad = 1.0 * out.grad\n",
    "            other.grad = 1.0 * out.grad\n",
    "        out._backward = _backward\n",
    "        return out\n",
    "    \n",
    "    def __mul__(self, other):\n",
    "        out = Value(self.data * other.data, (self, other), '*')\n",
    "        def _backward():\n",
    "            self.grad = other.data * out.grad\n",
    "            other.grad = self.data * out.grad\n",
    "        out._backward = _backward\n",
    "        return out\n",
    "    \n",
    "    def tanh(self):\n",
    "        x = self.data\n",
    "        t = (math.exp(2*x) - 1)/(math.exp(2*x) + 1)\n",
    "        out = Value(t, (self, ), 'tanh')\n",
    "        \n",
    "        def _backward():\n",
    "            self.grad = (1 - t**2) * out.grad\n",
    "        out._backward = _backward\n",
    "        return out\n",
    "    \n",
    "    def backward(self):\n",
    "        \n",
    "        topo = []\n",
    "        visited = set()\n",
    "        def build_topo(v):\n",
    "            if v not in visited:\n",
    "                visited.add(v)\n",
    "                for child in v._prev:\n",
    "                    build_topo(child)\n",
    "                topo.append(v)\n",
    "        build_topo(self)\n",
    "\n",
    "        self.grad = 1.0\n",
    "        for node in reversed(topo):\n",
    "            node._backward()\n",
    "    "
   ]
  },
  {
   "cell_type": "markdown",
   "id": "c5721a82",
   "metadata": {},
   "source": [
    "### Input Initialization and Forward pass"
   ]
  },
  {
   "cell_type": "code",
   "execution_count": 9,
   "id": "7f5a8609",
   "metadata": {
    "ExecuteTime": {
     "end_time": "2022-10-13T06:25:50.612555Z",
     "start_time": "2022-10-13T06:25:50.609168Z"
    }
   },
   "outputs": [
    {
     "name": "stdout",
     "output_type": "stream",
     "text": [
      "Value(data=4.0) {Value(data=-6.0), Value(data=10.0)} +\n"
     ]
    }
   ],
   "source": [
    "a = Value(2.0, label='a')\n",
    "b = Value(-3.0, label='b')\n",
    "c = Value(10.0, label='c')\n",
    "e = a*b; e.label='e'\n",
    "d = e + c; d.label='d'\n",
    "f = Value(-2.0, label='f')\n",
    "L = d * f; L.label='L'\n",
    "print(d, d._prev, d._op)"
   ]
  },
  {
   "cell_type": "markdown",
   "id": "d514307a",
   "metadata": {},
   "source": [
    "### Digraph Draw functions"
   ]
  },
  {
   "cell_type": "code",
   "execution_count": 10,
   "id": "6c9a1def",
   "metadata": {
    "ExecuteTime": {
     "end_time": "2022-10-13T06:25:50.644164Z",
     "start_time": "2022-10-13T06:25:50.616215Z"
    }
   },
   "outputs": [],
   "source": [
    "from graphviz import Digraph\n",
    "\n",
    "def trace(root):\n",
    "    # builds a set of all nodes and edges in a graph\n",
    "    nodes,edges = set(), set()\n",
    "    def build(v):\n",
    "        if v not in nodes:\n",
    "            nodes.add(v)\n",
    "            for child in v._prev:\n",
    "                edges.add((child,v))\n",
    "                build(child)\n",
    "    build(root)\n",
    "    return nodes, edges\n",
    "            \n",
    "def draw_dot(root):\n",
    "    dot = Digraph(format='svg', graph_attr={'rankdir': 'LR'}) #LR = left to right \n",
    "    \n",
    "    nodes, edges = trace(root)\n",
    "    for n in nodes:\n",
    "        uid = str(id(n))\n",
    "        #for any value in the graph, create a rectangular ('record') node for it\n",
    "        dot.node(name=uid, label = \"{ %s | data %.4f | grad %.4f}\" % (n.label, n.data, n.grad), shape='record')\n",
    "        if n._op:\n",
    "            dot.node(name = uid + n._op, label = n._op)\n",
    "            #and connect this node to it\n",
    "            dot.edge(uid + n._op, uid)\n",
    "\n",
    "    for n1, n2 in edges:\n",
    "        #connect n1 to the op node of n2\n",
    "        dot.edge(str(id(n1)), str(id(n2)) + n2._op)\n",
    "\n",
    "    return dot"
   ]
  },
  {
   "cell_type": "code",
   "execution_count": 11,
   "id": "f69eebda",
   "metadata": {
    "ExecuteTime": {
     "end_time": "2022-10-13T06:25:51.023032Z",
     "start_time": "2022-10-13T06:25:50.645128Z"
    }
   },
   "outputs": [
    {
     "data": {
      "image/svg+xml": [
       "<?xml version=\"1.0\" encoding=\"UTF-8\" standalone=\"no\"?>\n",
       "<!DOCTYPE svg PUBLIC \"-//W3C//DTD SVG 1.1//EN\"\n",
       " \"http://www.w3.org/Graphics/SVG/1.1/DTD/svg11.dtd\">\n",
       "<!-- Generated by graphviz version 2.49.3 (0)\n",
       " -->\n",
       "<!-- Pages: 1 -->\n",
       "<svg width=\"1157pt\" height=\"128pt\"\n",
       " viewBox=\"0.00 0.00 1157.00 128.00\" xmlns=\"http://www.w3.org/2000/svg\" xmlns:xlink=\"http://www.w3.org/1999/xlink\">\n",
       "<g id=\"graph0\" class=\"graph\" transform=\"scale(1 1) rotate(0) translate(4 124)\">\n",
       "<polygon fill=\"white\" stroke=\"transparent\" points=\"-4,4 -4,-124 1153,-124 1153,4 -4,4\"/>\n",
       "<!-- 4709308064 -->\n",
       "<g id=\"node1\" class=\"node\">\n",
       "<title>4709308064</title>\n",
       "<polygon fill=\"none\" stroke=\"black\" points=\"640,-27.5 640,-63.5 828,-63.5 828,-27.5 640,-27.5\"/>\n",
       "<text text-anchor=\"middle\" x=\"651.5\" y=\"-41.8\" font-family=\"Times,serif\" font-size=\"14.00\">d</text>\n",
       "<polyline fill=\"none\" stroke=\"black\" points=\"663,-27.5 663,-63.5 \"/>\n",
       "<text text-anchor=\"middle\" x=\"704\" y=\"-41.8\" font-family=\"Times,serif\" font-size=\"14.00\">data 4.0000</text>\n",
       "<polyline fill=\"none\" stroke=\"black\" points=\"745,-27.5 745,-63.5 \"/>\n",
       "<text text-anchor=\"middle\" x=\"786.5\" y=\"-41.8\" font-family=\"Times,serif\" font-size=\"14.00\">grad 0.0000</text>\n",
       "</g>\n",
       "<!-- 4709308208* -->\n",
       "<g id=\"node7\" class=\"node\">\n",
       "<title>4709308208*</title>\n",
       "<ellipse fill=\"none\" stroke=\"black\" cx=\"892\" cy=\"-72.5\" rx=\"27\" ry=\"18\"/>\n",
       "<text text-anchor=\"middle\" x=\"892\" y=\"-68.8\" font-family=\"Times,serif\" font-size=\"14.00\">*</text>\n",
       "</g>\n",
       "<!-- 4709308064&#45;&gt;4709308208* -->\n",
       "<g id=\"edge7\" class=\"edge\">\n",
       "<title>4709308064&#45;&gt;4709308208*</title>\n",
       "<path fill=\"none\" stroke=\"black\" d=\"M828.45,-61.67C838.03,-63.33 847.29,-64.93 855.61,-66.37\"/>\n",
       "<polygon fill=\"black\" stroke=\"black\" points=\"855.16,-69.85 865.61,-68.11 856.35,-62.95 855.16,-69.85\"/>\n",
       "</g>\n",
       "<!-- 4709308064+ -->\n",
       "<g id=\"node2\" class=\"node\">\n",
       "<title>4709308064+</title>\n",
       "<ellipse fill=\"none\" stroke=\"black\" cx=\"576\" cy=\"-45.5\" rx=\"27\" ry=\"18\"/>\n",
       "<text text-anchor=\"middle\" x=\"576\" y=\"-41.8\" font-family=\"Times,serif\" font-size=\"14.00\">+</text>\n",
       "</g>\n",
       "<!-- 4709308064+&#45;&gt;4709308064 -->\n",
       "<g id=\"edge1\" class=\"edge\">\n",
       "<title>4709308064+&#45;&gt;4709308064</title>\n",
       "<path fill=\"none\" stroke=\"black\" d=\"M603.11,-45.5C610.9,-45.5 619.95,-45.5 629.59,-45.5\"/>\n",
       "<polygon fill=\"black\" stroke=\"black\" points=\"629.81,-49 639.81,-45.5 629.81,-42 629.81,-49\"/>\n",
       "</g>\n",
       "<!-- 4709308160 -->\n",
       "<g id=\"node3\" class=\"node\">\n",
       "<title>4709308160</title>\n",
       "<polygon fill=\"none\" stroke=\"black\" points=\"319.5,-55.5 319.5,-91.5 511.5,-91.5 511.5,-55.5 319.5,-55.5\"/>\n",
       "<text text-anchor=\"middle\" x=\"331\" y=\"-69.8\" font-family=\"Times,serif\" font-size=\"14.00\">e</text>\n",
       "<polyline fill=\"none\" stroke=\"black\" points=\"342.5,-55.5 342.5,-91.5 \"/>\n",
       "<text text-anchor=\"middle\" x=\"385.5\" y=\"-69.8\" font-family=\"Times,serif\" font-size=\"14.00\">data &#45;6.0000</text>\n",
       "<polyline fill=\"none\" stroke=\"black\" points=\"428.5,-55.5 428.5,-91.5 \"/>\n",
       "<text text-anchor=\"middle\" x=\"470\" y=\"-69.8\" font-family=\"Times,serif\" font-size=\"14.00\">grad 0.0000</text>\n",
       "</g>\n",
       "<!-- 4709308160&#45;&gt;4709308064+ -->\n",
       "<g id=\"edge8\" class=\"edge\">\n",
       "<title>4709308160&#45;&gt;4709308064+</title>\n",
       "<path fill=\"none\" stroke=\"black\" d=\"M511.9,-56.65C521.78,-54.9 531.31,-53.22 539.85,-51.71\"/>\n",
       "<polygon fill=\"black\" stroke=\"black\" points=\"540.47,-55.15 549.71,-49.97 539.26,-48.26 540.47,-55.15\"/>\n",
       "</g>\n",
       "<!-- 4709308160* -->\n",
       "<g id=\"node4\" class=\"node\">\n",
       "<title>4709308160*</title>\n",
       "<ellipse fill=\"none\" stroke=\"black\" cx=\"255\" cy=\"-73.5\" rx=\"27\" ry=\"18\"/>\n",
       "<text text-anchor=\"middle\" x=\"255\" y=\"-69.8\" font-family=\"Times,serif\" font-size=\"14.00\">*</text>\n",
       "</g>\n",
       "<!-- 4709308160*&#45;&gt;4709308160 -->\n",
       "<g id=\"edge2\" class=\"edge\">\n",
       "<title>4709308160*&#45;&gt;4709308160</title>\n",
       "<path fill=\"none\" stroke=\"black\" d=\"M282.17,-73.5C290.15,-73.5 299.46,-73.5 309.38,-73.5\"/>\n",
       "<polygon fill=\"black\" stroke=\"black\" points=\"309.47,-77 319.47,-73.5 309.47,-70 309.47,-77\"/>\n",
       "</g>\n",
       "<!-- 4709307680 -->\n",
       "<g id=\"node5\" class=\"node\">\n",
       "<title>4709307680</title>\n",
       "<polygon fill=\"none\" stroke=\"black\" points=\"0,-83.5 0,-119.5 192,-119.5 192,-83.5 0,-83.5\"/>\n",
       "<text text-anchor=\"middle\" x=\"11.5\" y=\"-97.8\" font-family=\"Times,serif\" font-size=\"14.00\">b</text>\n",
       "<polyline fill=\"none\" stroke=\"black\" points=\"23,-83.5 23,-119.5 \"/>\n",
       "<text text-anchor=\"middle\" x=\"66\" y=\"-97.8\" font-family=\"Times,serif\" font-size=\"14.00\">data &#45;3.0000</text>\n",
       "<polyline fill=\"none\" stroke=\"black\" points=\"109,-83.5 109,-119.5 \"/>\n",
       "<text text-anchor=\"middle\" x=\"150.5\" y=\"-97.8\" font-family=\"Times,serif\" font-size=\"14.00\">grad 0.0000</text>\n",
       "</g>\n",
       "<!-- 4709307680&#45;&gt;4709308160* -->\n",
       "<g id=\"edge6\" class=\"edge\">\n",
       "<title>4709307680&#45;&gt;4709308160*</title>\n",
       "<path fill=\"none\" stroke=\"black\" d=\"M192.4,-84.49C201.69,-82.83 210.64,-81.23 218.71,-79.79\"/>\n",
       "<polygon fill=\"black\" stroke=\"black\" points=\"219.53,-83.2 228.76,-78 218.31,-76.31 219.53,-83.2\"/>\n",
       "</g>\n",
       "<!-- 4709308208 -->\n",
       "<g id=\"node6\" class=\"node\">\n",
       "<title>4709308208</title>\n",
       "<polygon fill=\"none\" stroke=\"black\" points=\"955,-54.5 955,-90.5 1149,-90.5 1149,-54.5 955,-54.5\"/>\n",
       "<text text-anchor=\"middle\" x=\"967.5\" y=\"-68.8\" font-family=\"Times,serif\" font-size=\"14.00\">L</text>\n",
       "<polyline fill=\"none\" stroke=\"black\" points=\"980,-54.5 980,-90.5 \"/>\n",
       "<text text-anchor=\"middle\" x=\"1023\" y=\"-68.8\" font-family=\"Times,serif\" font-size=\"14.00\">data &#45;8.0000</text>\n",
       "<polyline fill=\"none\" stroke=\"black\" points=\"1066,-54.5 1066,-90.5 \"/>\n",
       "<text text-anchor=\"middle\" x=\"1107.5\" y=\"-68.8\" font-family=\"Times,serif\" font-size=\"14.00\">grad 0.0000</text>\n",
       "</g>\n",
       "<!-- 4709308208*&#45;&gt;4709308208 -->\n",
       "<g id=\"edge3\" class=\"edge\">\n",
       "<title>4709308208*&#45;&gt;4709308208</title>\n",
       "<path fill=\"none\" stroke=\"black\" d=\"M919.09,-72.5C926.62,-72.5 935.34,-72.5 944.63,-72.5\"/>\n",
       "<polygon fill=\"black\" stroke=\"black\" points=\"944.92,-76 954.92,-72.5 944.92,-69 944.92,-76\"/>\n",
       "</g>\n",
       "<!-- 4709307824 -->\n",
       "<g id=\"node8\" class=\"node\">\n",
       "<title>4709307824</title>\n",
       "<polygon fill=\"none\" stroke=\"black\" points=\"2,-28.5 2,-64.5 190,-64.5 190,-28.5 2,-28.5\"/>\n",
       "<text text-anchor=\"middle\" x=\"13.5\" y=\"-42.8\" font-family=\"Times,serif\" font-size=\"14.00\">a</text>\n",
       "<polyline fill=\"none\" stroke=\"black\" points=\"25,-28.5 25,-64.5 \"/>\n",
       "<text text-anchor=\"middle\" x=\"66\" y=\"-42.8\" font-family=\"Times,serif\" font-size=\"14.00\">data 2.0000</text>\n",
       "<polyline fill=\"none\" stroke=\"black\" points=\"107,-28.5 107,-64.5 \"/>\n",
       "<text text-anchor=\"middle\" x=\"148.5\" y=\"-42.8\" font-family=\"Times,serif\" font-size=\"14.00\">grad 0.0000</text>\n",
       "</g>\n",
       "<!-- 4709307824&#45;&gt;4709308160* -->\n",
       "<g id=\"edge9\" class=\"edge\">\n",
       "<title>4709307824&#45;&gt;4709308160*</title>\n",
       "<path fill=\"none\" stroke=\"black\" d=\"M190.14,-62.52C200.19,-64.25 209.9,-65.92 218.59,-67.41\"/>\n",
       "<polygon fill=\"black\" stroke=\"black\" points=\"218.2,-70.89 228.64,-69.14 219.38,-64 218.2,-70.89\"/>\n",
       "</g>\n",
       "<!-- 4709307344 -->\n",
       "<g id=\"node9\" class=\"node\">\n",
       "<title>4709307344</title>\n",
       "<polygon fill=\"none\" stroke=\"black\" points=\"639,-82.5 639,-118.5 829,-118.5 829,-82.5 639,-82.5\"/>\n",
       "<text text-anchor=\"middle\" x=\"649.5\" y=\"-96.8\" font-family=\"Times,serif\" font-size=\"14.00\">f</text>\n",
       "<polyline fill=\"none\" stroke=\"black\" points=\"660,-82.5 660,-118.5 \"/>\n",
       "<text text-anchor=\"middle\" x=\"703\" y=\"-96.8\" font-family=\"Times,serif\" font-size=\"14.00\">data &#45;2.0000</text>\n",
       "<polyline fill=\"none\" stroke=\"black\" points=\"746,-82.5 746,-118.5 \"/>\n",
       "<text text-anchor=\"middle\" x=\"787.5\" y=\"-96.8\" font-family=\"Times,serif\" font-size=\"14.00\">grad 0.0000</text>\n",
       "</g>\n",
       "<!-- 4709307344&#45;&gt;4709308208* -->\n",
       "<g id=\"edge5\" class=\"edge\">\n",
       "<title>4709307344&#45;&gt;4709308208*</title>\n",
       "<path fill=\"none\" stroke=\"black\" d=\"M829.34,-83.57C838.62,-81.9 847.58,-80.29 855.66,-78.84\"/>\n",
       "<polygon fill=\"black\" stroke=\"black\" points=\"856.49,-82.25 865.72,-77.04 855.26,-75.36 856.49,-82.25\"/>\n",
       "</g>\n",
       "<!-- 4709307872 -->\n",
       "<g id=\"node10\" class=\"node\">\n",
       "<title>4709307872</title>\n",
       "<polygon fill=\"none\" stroke=\"black\" points=\"318,-0.5 318,-36.5 513,-36.5 513,-0.5 318,-0.5\"/>\n",
       "<text text-anchor=\"middle\" x=\"329.5\" y=\"-14.8\" font-family=\"Times,serif\" font-size=\"14.00\">c</text>\n",
       "<polyline fill=\"none\" stroke=\"black\" points=\"341,-0.5 341,-36.5 \"/>\n",
       "<text text-anchor=\"middle\" x=\"385.5\" y=\"-14.8\" font-family=\"Times,serif\" font-size=\"14.00\">data 10.0000</text>\n",
       "<polyline fill=\"none\" stroke=\"black\" points=\"430,-0.5 430,-36.5 \"/>\n",
       "<text text-anchor=\"middle\" x=\"471.5\" y=\"-14.8\" font-family=\"Times,serif\" font-size=\"14.00\">grad 0.0000</text>\n",
       "</g>\n",
       "<!-- 4709307872&#45;&gt;4709308064+ -->\n",
       "<g id=\"edge4\" class=\"edge\">\n",
       "<title>4709307872&#45;&gt;4709308064+</title>\n",
       "<path fill=\"none\" stroke=\"black\" d=\"M513.27,-34.98C522.59,-36.57 531.57,-38.1 539.66,-39.48\"/>\n",
       "<polygon fill=\"black\" stroke=\"black\" points=\"539.29,-42.97 549.73,-41.2 540.46,-36.07 539.29,-42.97\"/>\n",
       "</g>\n",
       "</g>\n",
       "</svg>\n"
      ],
      "text/plain": [
       "<graphviz.graphs.Digraph at 0x118b25d30>"
      ]
     },
     "execution_count": 11,
     "metadata": {},
     "output_type": "execute_result"
    }
   ],
   "source": [
    "draw_dot(L)"
   ]
  },
  {
   "cell_type": "markdown",
   "id": "5aa1d1e9",
   "metadata": {
    "ExecuteTime": {
     "end_time": "2022-08-19T18:20:33.650337Z",
     "start_time": "2022-08-19T18:20:33.648850Z"
    }
   },
   "source": [
    "### Manual Backprop\n",
    "To double-check intuition for relation between operators and derivatives taken on their child nodes"
   ]
  },
  {
   "cell_type": "code",
   "execution_count": 12,
   "id": "84e46311",
   "metadata": {
    "ExecuteTime": {
     "end_time": "2022-10-13T06:25:51.027261Z",
     "start_time": "2022-10-13T06:25:51.024332Z"
    }
   },
   "outputs": [],
   "source": [
    "L.grad = 1.0\n",
    "d.grad = -2.0\n",
    "f.grad = 4.0\n",
    "e.grad = -2.0\n",
    "c.grad = -2.0\n",
    "b.grad = -4.0\n",
    "a.grad = 6.0"
   ]
  },
  {
   "cell_type": "code",
   "execution_count": 13,
   "id": "557555ef",
   "metadata": {
    "ExecuteTime": {
     "end_time": "2022-10-13T06:25:51.033025Z",
     "start_time": "2022-10-13T06:25:51.028319Z"
    }
   },
   "outputs": [
    {
     "name": "stdout",
     "output_type": "stream",
     "text": [
      "-4.000000000008441\n"
     ]
    }
   ],
   "source": [
    "\"\"\"\n",
    "gradient check using formula \n",
    "\"\"\"\n",
    "def lol():\n",
    "    \n",
    "    h = 0.0001\n",
    "    \n",
    "    a = Value(2.0, label='a')\n",
    "    b = Value(-3.0, label='b')\n",
    "    c = Value(10.0, label='c')\n",
    "    e = a*b; e.label='e'\n",
    "    d = e + c; d.label='d'\n",
    "    f = Value(-2.0, label='f')\n",
    "    L = d * f; L.label='L'\n",
    "    L1 = L.data\n",
    "    \n",
    "    \n",
    "    a = Value(2.0, label='a')\n",
    "    b = Value(-3.0, label='b')\n",
    "    b.data += h\n",
    "    c = Value(10.0, label='c')\n",
    "    e = a*b; e.label='e'\n",
    "    d = e + c; d.label='d'\n",
    "    f = Value(-2.0, label='f')\n",
    "    L = d * f; L.label='L'\n",
    "    L2 = L.data\n",
    "    \n",
    "    print((L2-L1)/h)  # (f(x+h) - f(x))/h\n",
    "\n",
    "lol()"
   ]
  },
  {
   "cell_type": "code",
   "execution_count": 14,
   "id": "443bf180",
   "metadata": {
    "ExecuteTime": {
     "end_time": "2022-10-13T06:25:51.036611Z",
     "start_time": "2022-10-13T06:25:51.033996Z"
    }
   },
   "outputs": [
    {
     "name": "stdout",
     "output_type": "stream",
     "text": [
      "-7.286496\n"
     ]
    }
   ],
   "source": [
    "# tweak weights in the direction of gradient\n",
    "a.data += 0.01 * a.grad\n",
    "b.data += 0.01 * b.grad\n",
    "c.data += 0.01 * c.grad\n",
    "f.data += 0.01 * f.grad\n",
    "\n",
    "# forward pass\n",
    "e = a * b\n",
    "d = e + c\n",
    "L = d * f\n",
    "\n",
    "print(L.data) # Loss goes up // becomes less negative in this case"
   ]
  },
  {
   "cell_type": "markdown",
   "id": "a4dd266a",
   "metadata": {
    "ExecuteTime": {
     "end_time": "2022-08-19T18:20:33.662866Z",
     "start_time": "2022-08-19T18:20:33.661617Z"
    }
   },
   "source": [
    "#### Single Neuron"
   ]
  },
  {
   "cell_type": "code",
   "execution_count": 15,
   "id": "5432b479",
   "metadata": {
    "ExecuteTime": {
     "end_time": "2022-10-13T06:25:51.108375Z",
     "start_time": "2022-10-13T06:25:51.037757Z"
    }
   },
   "outputs": [
    {
     "data": {
      "image/png": "[encoded data removed]",
      "text/plain": [
       "<Figure size 432x288 with 1 Axes>"
      ]
     },
     "metadata": {
      "needs_background": "light"
     },
     "output_type": "display_data"
    }
   ],
   "source": [
    "plt.plot(np.arange(-5,5,0.2), np.tanh(np.arange(-5,5,0.2))); plt.grid();"
   ]
  },
  {
   "cell_type": "code",
   "execution_count": 16,
   "id": "9376322e",
   "metadata": {
    "ExecuteTime": {
     "end_time": "2022-10-13T06:25:51.113153Z",
     "start_time": "2022-10-13T06:25:51.109901Z"
    }
   },
   "outputs": [],
   "source": [
    "# inputs x1,x2\n",
    "x1 = Value(2.0, label='x1')\n",
    "x2 = Value(0.0, label='x2')\n",
    "# weights w1,w2\n",
    "w1 = Value(-3.0, label='w1')\n",
    "w2 = Value(1.0, label='w2')\n",
    "# bias of the neuron\n",
    "b = Value(6.8813735870195342, label='b')\n",
    "# x1*w1 + x2*w2 + b\n",
    "x1w1 = x1 * w1; x1w1.label='x1*w1'\n",
    "x2w2 = x2 * w2; x2w2.label='x2*w2'\n",
    "x1w1x2w2 = x1w1 + x2w2; x1w1x2w2.label = 'x1*w1 + x2*w2'\n",
    "n = x1w1x2w2 + b; n.label = 'n'\n",
    "o = n.tanh()"
   ]
  },
  {
   "cell_type": "code",
   "execution_count": 17,
   "id": "c2e20c08",
   "metadata": {
    "ExecuteTime": {
     "end_time": "2022-10-13T06:25:51.260932Z",
     "start_time": "2022-10-13T06:25:51.114311Z"
    },
    "scrolled": true
   },
   "outputs": [
    {
     "data": {
      "image/svg+xml": [
       "<?xml version=\"1.0\" encoding=\"UTF-8\" standalone=\"no\"?>\n",
       "<!DOCTYPE svg PUBLIC \"-//W3C//DTD SVG 1.1//EN\"\n",
       " \"http://www.w3.org/Graphics/SVG/1.1/DTD/svg11.dtd\">\n",
       "<!-- Generated by graphviz version 2.49.3 (0)\n",
       " -->\n",
       "<!-- Pages: 1 -->\n",
       "<svg width=\"1589pt\" height=\"210pt\"\n",
       " viewBox=\"0.00 0.00 1589.00 210.00\" xmlns=\"http://www.w3.org/2000/svg\" xmlns:xlink=\"http://www.w3.org/1999/xlink\">\n",
       "<g id=\"graph0\" class=\"graph\" transform=\"scale(1 1) rotate(0) translate(4 206)\">\n",
       "<polygon fill=\"white\" stroke=\"transparent\" points=\"-4,4 -4,-206 1585,-206 1585,4 -4,4\"/>\n",
       "<!-- 4710777856 -->\n",
       "<g id=\"node1\" class=\"node\">\n",
       "<title>4710777856</title>\n",
       "<polygon fill=\"none\" stroke=\"black\" points=\"1082,-109.5 1082,-145.5 1270,-145.5 1270,-109.5 1082,-109.5\"/>\n",
       "<text text-anchor=\"middle\" x=\"1093.5\" y=\"-123.8\" font-family=\"Times,serif\" font-size=\"14.00\">n</text>\n",
       "<polyline fill=\"none\" stroke=\"black\" points=\"1105,-109.5 1105,-145.5 \"/>\n",
       "<text text-anchor=\"middle\" x=\"1146\" y=\"-123.8\" font-family=\"Times,serif\" font-size=\"14.00\">data 0.8814</text>\n",
       "<polyline fill=\"none\" stroke=\"black\" points=\"1187,-109.5 1187,-145.5 \"/>\n",
       "<text text-anchor=\"middle\" x=\"1228.5\" y=\"-123.8\" font-family=\"Times,serif\" font-size=\"14.00\">grad 0.0000</text>\n",
       "</g>\n",
       "<!-- 4710778048tanh -->\n",
       "<g id=\"node5\" class=\"node\">\n",
       "<title>4710778048tanh</title>\n",
       "<ellipse fill=\"none\" stroke=\"black\" cx=\"1333\" cy=\"-127.5\" rx=\"27\" ry=\"18\"/>\n",
       "<text text-anchor=\"middle\" x=\"1333\" y=\"-123.8\" font-family=\"Times,serif\" font-size=\"14.00\">tanh</text>\n",
       "</g>\n",
       "<!-- 4710777856&#45;&gt;4710778048tanh -->\n",
       "<g id=\"edge8\" class=\"edge\">\n",
       "<title>4710777856&#45;&gt;4710778048tanh</title>\n",
       "<path fill=\"none\" stroke=\"black\" d=\"M1270.29,-127.5C1279.2,-127.5 1287.81,-127.5 1295.64,-127.5\"/>\n",
       "<polygon fill=\"black\" stroke=\"black\" points=\"1295.77,-131 1305.77,-127.5 1295.77,-124 1295.77,-131\"/>\n",
       "</g>\n",
       "<!-- 4710777856+ -->\n",
       "<g id=\"node2\" class=\"node\">\n",
       "<title>4710777856+</title>\n",
       "<ellipse fill=\"none\" stroke=\"black\" cx=\"1019\" cy=\"-127.5\" rx=\"27\" ry=\"18\"/>\n",
       "<text text-anchor=\"middle\" x=\"1019\" y=\"-123.8\" font-family=\"Times,serif\" font-size=\"14.00\">+</text>\n",
       "</g>\n",
       "<!-- 4710777856+&#45;&gt;4710777856 -->\n",
       "<g id=\"edge1\" class=\"edge\">\n",
       "<title>4710777856+&#45;&gt;4710777856</title>\n",
       "<path fill=\"none\" stroke=\"black\" d=\"M1046.29,-127.5C1053.78,-127.5 1062.42,-127.5 1071.6,-127.5\"/>\n",
       "<polygon fill=\"black\" stroke=\"black\" points=\"1071.76,-131 1081.76,-127.5 1071.76,-124 1071.76,-131\"/>\n",
       "</g>\n",
       "<!-- 4710777376 -->\n",
       "<g id=\"node3\" class=\"node\">\n",
       "<title>4710777376</title>\n",
       "<polygon fill=\"none\" stroke=\"black\" points=\"723.5,-137.5 723.5,-173.5 911.5,-173.5 911.5,-137.5 723.5,-137.5\"/>\n",
       "<text text-anchor=\"middle\" x=\"735\" y=\"-151.8\" font-family=\"Times,serif\" font-size=\"14.00\">b</text>\n",
       "<polyline fill=\"none\" stroke=\"black\" points=\"746.5,-137.5 746.5,-173.5 \"/>\n",
       "<text text-anchor=\"middle\" x=\"787.5\" y=\"-151.8\" font-family=\"Times,serif\" font-size=\"14.00\">data 6.8814</text>\n",
       "<polyline fill=\"none\" stroke=\"black\" points=\"828.5,-137.5 828.5,-173.5 \"/>\n",
       "<text text-anchor=\"middle\" x=\"870\" y=\"-151.8\" font-family=\"Times,serif\" font-size=\"14.00\">grad 0.0000</text>\n",
       "</g>\n",
       "<!-- 4710777376&#45;&gt;4710777856+ -->\n",
       "<g id=\"edge10\" class=\"edge\">\n",
       "<title>4710777376&#45;&gt;4710777856+</title>\n",
       "<path fill=\"none\" stroke=\"black\" d=\"M911.53,-142.44C936.68,-138.91 962.39,-135.3 982.25,-132.52\"/>\n",
       "<polygon fill=\"black\" stroke=\"black\" points=\"982.93,-135.96 992.35,-131.1 981.96,-129.02 982.93,-135.96\"/>\n",
       "</g>\n",
       "<!-- 4710778048 -->\n",
       "<g id=\"node4\" class=\"node\">\n",
       "<title>4710778048</title>\n",
       "<polygon fill=\"none\" stroke=\"black\" points=\"1396,-109.5 1396,-145.5 1581,-145.5 1581,-109.5 1396,-109.5\"/>\n",
       "<text text-anchor=\"middle\" x=\"1406\" y=\"-123.8\" font-family=\"Times,serif\" font-size=\"14.00\"> </text>\n",
       "<polyline fill=\"none\" stroke=\"black\" points=\"1416,-109.5 1416,-145.5 \"/>\n",
       "<text text-anchor=\"middle\" x=\"1457\" y=\"-123.8\" font-family=\"Times,serif\" font-size=\"14.00\">data 0.7071</text>\n",
       "<polyline fill=\"none\" stroke=\"black\" points=\"1498,-109.5 1498,-145.5 \"/>\n",
       "<text text-anchor=\"middle\" x=\"1539.5\" y=\"-123.8\" font-family=\"Times,serif\" font-size=\"14.00\">grad 0.0000</text>\n",
       "</g>\n",
       "<!-- 4710778048tanh&#45;&gt;4710778048 -->\n",
       "<g id=\"edge2\" class=\"edge\">\n",
       "<title>4710778048tanh&#45;&gt;4710778048</title>\n",
       "<path fill=\"none\" stroke=\"black\" d=\"M1360.04,-127.5C1367.58,-127.5 1376.3,-127.5 1385.57,-127.5\"/>\n",
       "<polygon fill=\"black\" stroke=\"black\" points=\"1385.81,-131 1395.81,-127.5 1385.81,-124 1385.81,-131\"/>\n",
       "</g>\n",
       "<!-- 4710777568 -->\n",
       "<g id=\"node6\" class=\"node\">\n",
       "<title>4710777568</title>\n",
       "<polygon fill=\"none\" stroke=\"black\" points=\"331,-110.5 331,-146.5 551,-146.5 551,-110.5 331,-110.5\"/>\n",
       "<text text-anchor=\"middle\" x=\"358.5\" y=\"-124.8\" font-family=\"Times,serif\" font-size=\"14.00\">x2*w2</text>\n",
       "<polyline fill=\"none\" stroke=\"black\" points=\"386,-110.5 386,-146.5 \"/>\n",
       "<text text-anchor=\"middle\" x=\"427\" y=\"-124.8\" font-family=\"Times,serif\" font-size=\"14.00\">data 0.0000</text>\n",
       "<polyline fill=\"none\" stroke=\"black\" points=\"468,-110.5 468,-146.5 \"/>\n",
       "<text text-anchor=\"middle\" x=\"509.5\" y=\"-124.8\" font-family=\"Times,serif\" font-size=\"14.00\">grad 0.0000</text>\n",
       "</g>\n",
       "<!-- 4710777712+ -->\n",
       "<g id=\"node12\" class=\"node\">\n",
       "<title>4710777712+</title>\n",
       "<ellipse fill=\"none\" stroke=\"black\" cx=\"616\" cy=\"-100.5\" rx=\"27\" ry=\"18\"/>\n",
       "<text text-anchor=\"middle\" x=\"616\" y=\"-96.8\" font-family=\"Times,serif\" font-size=\"14.00\">+</text>\n",
       "</g>\n",
       "<!-- 4710777568&#45;&gt;4710777712+ -->\n",
       "<g id=\"edge7\" class=\"edge\">\n",
       "<title>4710777568&#45;&gt;4710777712+</title>\n",
       "<path fill=\"none\" stroke=\"black\" d=\"M551.07,-110.85C561.24,-109.2 570.96,-107.63 579.62,-106.23\"/>\n",
       "<polygon fill=\"black\" stroke=\"black\" points=\"580.3,-109.66 589.61,-104.61 579.18,-102.75 580.3,-109.66\"/>\n",
       "</g>\n",
       "<!-- 4710777568* -->\n",
       "<g id=\"node7\" class=\"node\">\n",
       "<title>4710777568*</title>\n",
       "<ellipse fill=\"none\" stroke=\"black\" cx=\"266\" cy=\"-128.5\" rx=\"27\" ry=\"18\"/>\n",
       "<text text-anchor=\"middle\" x=\"266\" y=\"-124.8\" font-family=\"Times,serif\" font-size=\"14.00\">*</text>\n",
       "</g>\n",
       "<!-- 4710777568*&#45;&gt;4710777568 -->\n",
       "<g id=\"edge3\" class=\"edge\">\n",
       "<title>4710777568*&#45;&gt;4710777568</title>\n",
       "<path fill=\"none\" stroke=\"black\" d=\"M293.27,-128.5C301.21,-128.5 310.5,-128.5 320.47,-128.5\"/>\n",
       "<polygon fill=\"black\" stroke=\"black\" points=\"320.65,-132 330.65,-128.5 320.65,-125 320.65,-132\"/>\n",
       "</g>\n",
       "<!-- 4710777664 -->\n",
       "<g id=\"node8\" class=\"node\">\n",
       "<title>4710777664</title>\n",
       "<polygon fill=\"none\" stroke=\"black\" points=\"329,-55.5 329,-91.5 553,-91.5 553,-55.5 329,-55.5\"/>\n",
       "<text text-anchor=\"middle\" x=\"356.5\" y=\"-69.8\" font-family=\"Times,serif\" font-size=\"14.00\">x1*w1</text>\n",
       "<polyline fill=\"none\" stroke=\"black\" points=\"384,-55.5 384,-91.5 \"/>\n",
       "<text text-anchor=\"middle\" x=\"427\" y=\"-69.8\" font-family=\"Times,serif\" font-size=\"14.00\">data &#45;6.0000</text>\n",
       "<polyline fill=\"none\" stroke=\"black\" points=\"470,-55.5 470,-91.5 \"/>\n",
       "<text text-anchor=\"middle\" x=\"511.5\" y=\"-69.8\" font-family=\"Times,serif\" font-size=\"14.00\">grad 0.0000</text>\n",
       "</g>\n",
       "<!-- 4710777664&#45;&gt;4710777712+ -->\n",
       "<g id=\"edge14\" class=\"edge\">\n",
       "<title>4710777664&#45;&gt;4710777712+</title>\n",
       "<path fill=\"none\" stroke=\"black\" d=\"M553.03,-90.83C562.46,-92.3 571.46,-93.7 579.54,-94.97\"/>\n",
       "<polygon fill=\"black\" stroke=\"black\" points=\"579.16,-98.45 589.58,-96.53 580.24,-91.53 579.16,-98.45\"/>\n",
       "</g>\n",
       "<!-- 4710777664* -->\n",
       "<g id=\"node9\" class=\"node\">\n",
       "<title>4710777664*</title>\n",
       "<ellipse fill=\"none\" stroke=\"black\" cx=\"266\" cy=\"-73.5\" rx=\"27\" ry=\"18\"/>\n",
       "<text text-anchor=\"middle\" x=\"266\" y=\"-69.8\" font-family=\"Times,serif\" font-size=\"14.00\">*</text>\n",
       "</g>\n",
       "<!-- 4710777664*&#45;&gt;4710777664 -->\n",
       "<g id=\"edge4\" class=\"edge\">\n",
       "<title>4710777664*&#45;&gt;4710777664</title>\n",
       "<path fill=\"none\" stroke=\"black\" d=\"M293.27,-73.5C300.7,-73.5 309.31,-73.5 318.55,-73.5\"/>\n",
       "<polygon fill=\"black\" stroke=\"black\" points=\"318.81,-77 328.81,-73.5 318.81,-70 318.81,-77\"/>\n",
       "</g>\n",
       "<!-- 4710777184 -->\n",
       "<g id=\"node10\" class=\"node\">\n",
       "<title>4710777184</title>\n",
       "<polygon fill=\"none\" stroke=\"black\" points=\"4,-165.5 4,-201.5 199,-201.5 199,-165.5 4,-165.5\"/>\n",
       "<text text-anchor=\"middle\" x=\"19\" y=\"-179.8\" font-family=\"Times,serif\" font-size=\"14.00\">x2</text>\n",
       "<polyline fill=\"none\" stroke=\"black\" points=\"34,-165.5 34,-201.5 \"/>\n",
       "<text text-anchor=\"middle\" x=\"75\" y=\"-179.8\" font-family=\"Times,serif\" font-size=\"14.00\">data 0.0000</text>\n",
       "<polyline fill=\"none\" stroke=\"black\" points=\"116,-165.5 116,-201.5 \"/>\n",
       "<text text-anchor=\"middle\" x=\"157.5\" y=\"-179.8\" font-family=\"Times,serif\" font-size=\"14.00\">grad 0.0000</text>\n",
       "</g>\n",
       "<!-- 4710777184&#45;&gt;4710777568* -->\n",
       "<g id=\"edge9\" class=\"edge\">\n",
       "<title>4710777184&#45;&gt;4710777568*</title>\n",
       "<path fill=\"none\" stroke=\"black\" d=\"M175.12,-165.49C184.57,-162.71 194.07,-159.69 203,-156.5 213.53,-152.73 224.76,-147.92 234.73,-143.35\"/>\n",
       "<polygon fill=\"black\" stroke=\"black\" points=\"236.26,-146.5 243.83,-139.09 233.29,-140.16 236.26,-146.5\"/>\n",
       "</g>\n",
       "<!-- 4710777712 -->\n",
       "<g id=\"node11\" class=\"node\">\n",
       "<title>4710777712</title>\n",
       "<polygon fill=\"none\" stroke=\"black\" points=\"679,-82.5 679,-118.5 956,-118.5 956,-82.5 679,-82.5\"/>\n",
       "<text text-anchor=\"middle\" x=\"733\" y=\"-96.8\" font-family=\"Times,serif\" font-size=\"14.00\">x1*w1 + x2*w2</text>\n",
       "<polyline fill=\"none\" stroke=\"black\" points=\"787,-82.5 787,-118.5 \"/>\n",
       "<text text-anchor=\"middle\" x=\"830\" y=\"-96.8\" font-family=\"Times,serif\" font-size=\"14.00\">data &#45;6.0000</text>\n",
       "<polyline fill=\"none\" stroke=\"black\" points=\"873,-82.5 873,-118.5 \"/>\n",
       "<text text-anchor=\"middle\" x=\"914.5\" y=\"-96.8\" font-family=\"Times,serif\" font-size=\"14.00\">grad 0.0000</text>\n",
       "</g>\n",
       "<!-- 4710777712&#45;&gt;4710777856+ -->\n",
       "<g id=\"edge13\" class=\"edge\">\n",
       "<title>4710777712&#45;&gt;4710777856+</title>\n",
       "<path fill=\"none\" stroke=\"black\" d=\"M951.57,-118.51C962.56,-120 972.95,-121.4 982.09,-122.64\"/>\n",
       "<polygon fill=\"black\" stroke=\"black\" points=\"981.85,-126.14 992.23,-124.01 982.79,-119.2 981.85,-126.14\"/>\n",
       "</g>\n",
       "<!-- 4710777712+&#45;&gt;4710777712 -->\n",
       "<g id=\"edge5\" class=\"edge\">\n",
       "<title>4710777712+&#45;&gt;4710777712</title>\n",
       "<path fill=\"none\" stroke=\"black\" d=\"M643.08,-100.5C650.53,-100.5 659.21,-100.5 668.65,-100.5\"/>\n",
       "<polygon fill=\"black\" stroke=\"black\" points=\"668.74,-104 678.74,-100.5 668.74,-97 668.74,-104\"/>\n",
       "</g>\n",
       "<!-- 4710777232 -->\n",
       "<g id=\"node13\" class=\"node\">\n",
       "<title>4710777232</title>\n",
       "<polygon fill=\"none\" stroke=\"black\" points=\"2,-110.5 2,-146.5 201,-146.5 201,-110.5 2,-110.5\"/>\n",
       "<text text-anchor=\"middle\" x=\"19\" y=\"-124.8\" font-family=\"Times,serif\" font-size=\"14.00\">w2</text>\n",
       "<polyline fill=\"none\" stroke=\"black\" points=\"36,-110.5 36,-146.5 \"/>\n",
       "<text text-anchor=\"middle\" x=\"77\" y=\"-124.8\" font-family=\"Times,serif\" font-size=\"14.00\">data 1.0000</text>\n",
       "<polyline fill=\"none\" stroke=\"black\" points=\"118,-110.5 118,-146.5 \"/>\n",
       "<text text-anchor=\"middle\" x=\"159.5\" y=\"-124.8\" font-family=\"Times,serif\" font-size=\"14.00\">grad 0.0000</text>\n",
       "</g>\n",
       "<!-- 4710777232&#45;&gt;4710777568* -->\n",
       "<g id=\"edge6\" class=\"edge\">\n",
       "<title>4710777232&#45;&gt;4710777568*</title>\n",
       "<path fill=\"none\" stroke=\"black\" d=\"M201.24,-128.5C210.96,-128.5 220.33,-128.5 228.76,-128.5\"/>\n",
       "<polygon fill=\"black\" stroke=\"black\" points=\"228.88,-132 238.88,-128.5 228.88,-125 228.88,-132\"/>\n",
       "</g>\n",
       "<!-- 4710777280 -->\n",
       "<g id=\"node14\" class=\"node\">\n",
       "<title>4710777280</title>\n",
       "<polygon fill=\"none\" stroke=\"black\" points=\"4,-55.5 4,-91.5 199,-91.5 199,-55.5 4,-55.5\"/>\n",
       "<text text-anchor=\"middle\" x=\"19\" y=\"-69.8\" font-family=\"Times,serif\" font-size=\"14.00\">x1</text>\n",
       "<polyline fill=\"none\" stroke=\"black\" points=\"34,-55.5 34,-91.5 \"/>\n",
       "<text text-anchor=\"middle\" x=\"75\" y=\"-69.8\" font-family=\"Times,serif\" font-size=\"14.00\">data 2.0000</text>\n",
       "<polyline fill=\"none\" stroke=\"black\" points=\"116,-55.5 116,-91.5 \"/>\n",
       "<text text-anchor=\"middle\" x=\"157.5\" y=\"-69.8\" font-family=\"Times,serif\" font-size=\"14.00\">grad 0.0000</text>\n",
       "</g>\n",
       "<!-- 4710777280&#45;&gt;4710777664* -->\n",
       "<g id=\"edge11\" class=\"edge\">\n",
       "<title>4710777280&#45;&gt;4710777664*</title>\n",
       "<path fill=\"none\" stroke=\"black\" d=\"M199.37,-73.5C209.83,-73.5 219.92,-73.5 228.93,-73.5\"/>\n",
       "<polygon fill=\"black\" stroke=\"black\" points=\"228.97,-77 238.97,-73.5 228.97,-70 228.97,-77\"/>\n",
       "</g>\n",
       "<!-- 4710777328 -->\n",
       "<g id=\"node15\" class=\"node\">\n",
       "<title>4710777328</title>\n",
       "<polygon fill=\"none\" stroke=\"black\" points=\"0,-0.5 0,-36.5 203,-36.5 203,-0.5 0,-0.5\"/>\n",
       "<text text-anchor=\"middle\" x=\"17\" y=\"-14.8\" font-family=\"Times,serif\" font-size=\"14.00\">w1</text>\n",
       "<polyline fill=\"none\" stroke=\"black\" points=\"34,-0.5 34,-36.5 \"/>\n",
       "<text text-anchor=\"middle\" x=\"77\" y=\"-14.8\" font-family=\"Times,serif\" font-size=\"14.00\">data &#45;3.0000</text>\n",
       "<polyline fill=\"none\" stroke=\"black\" points=\"120,-0.5 120,-36.5 \"/>\n",
       "<text text-anchor=\"middle\" x=\"161.5\" y=\"-14.8\" font-family=\"Times,serif\" font-size=\"14.00\">grad 0.0000</text>\n",
       "</g>\n",
       "<!-- 4710777328&#45;&gt;4710777664* -->\n",
       "<g id=\"edge12\" class=\"edge\">\n",
       "<title>4710777328&#45;&gt;4710777664*</title>\n",
       "<path fill=\"none\" stroke=\"black\" d=\"M172.1,-36.53C182.53,-39.62 193.1,-42.98 203,-46.5 213.29,-50.15 224.28,-54.72 234.12,-59.04\"/>\n",
       "<polygon fill=\"black\" stroke=\"black\" points=\"232.93,-62.35 243.49,-63.25 235.8,-55.96 232.93,-62.35\"/>\n",
       "</g>\n",
       "</g>\n",
       "</svg>\n"
      ],
      "text/plain": [
       "<graphviz.graphs.Digraph at 0x118c64610>"
      ]
     },
     "execution_count": 17,
     "metadata": {},
     "output_type": "execute_result"
    }
   ],
   "source": [
    "draw_dot(o)"
   ]
  },
  {
   "cell_type": "code",
   "execution_count": 18,
   "id": "900d4b94",
   "metadata": {
    "ExecuteTime": {
     "end_time": "2022-10-13T06:25:51.265502Z",
     "start_time": "2022-10-13T06:25:51.262147Z"
    }
   },
   "outputs": [],
   "source": [
    "# ^single neuron\n",
    "o.grad = 1.0\n",
    "\n",
    "# o = tanh(n)\n",
    "# do/dn = 1-o**2\n",
    "n.grad = 0.5  # (1-0.data**2)\n",
    "\n",
    "x1w1x2w2.grad = 0.5\n",
    "b.grad = 0.5\n",
    "\n",
    "x1w1.grad = 0.5\n",
    "x2w2.grad = 0.5\n",
    "\n",
    "x2.grad = w2.data * x2w2.grad\n",
    "w2.grad = x2.data * x2w2.grad\n",
    "\n",
    "x1.grad = w1.data * x1w1.grad\n",
    "w1.grad = x1.data * x1w1.grad"
   ]
  },
  {
   "cell_type": "code",
   "execution_count": 19,
   "id": "ae767059",
   "metadata": {
    "ExecuteTime": {
     "end_time": "2022-10-13T06:25:51.416524Z",
     "start_time": "2022-10-13T06:25:51.266543Z"
    }
   },
   "outputs": [
    {
     "data": {
      "image/svg+xml": [
       "<?xml version=\"1.0\" encoding=\"UTF-8\" standalone=\"no\"?>\n",
       "<!DOCTYPE svg PUBLIC \"-//W3C//DTD SVG 1.1//EN\"\n",
       " \"http://www.w3.org/Graphics/SVG/1.1/DTD/svg11.dtd\">\n",
       "<!-- Generated by graphviz version 2.49.3 (0)\n",
       " -->\n",
       "<!-- Pages: 1 -->\n",
       "<svg width=\"1589pt\" height=\"210pt\"\n",
       " viewBox=\"0.00 0.00 1589.00 210.00\" xmlns=\"http://www.w3.org/2000/svg\" xmlns:xlink=\"http://www.w3.org/1999/xlink\">\n",
       "<g id=\"graph0\" class=\"graph\" transform=\"scale(1 1) rotate(0) translate(4 206)\">\n",
       "<polygon fill=\"white\" stroke=\"transparent\" points=\"-4,4 -4,-206 1585,-206 1585,4 -4,4\"/>\n",
       "<!-- 4710777856 -->\n",
       "<g id=\"node1\" class=\"node\">\n",
       "<title>4710777856</title>\n",
       "<polygon fill=\"none\" stroke=\"black\" points=\"1082,-109.5 1082,-145.5 1270,-145.5 1270,-109.5 1082,-109.5\"/>\n",
       "<text text-anchor=\"middle\" x=\"1093.5\" y=\"-123.8\" font-family=\"Times,serif\" font-size=\"14.00\">n</text>\n",
       "<polyline fill=\"none\" stroke=\"black\" points=\"1105,-109.5 1105,-145.5 \"/>\n",
       "<text text-anchor=\"middle\" x=\"1146\" y=\"-123.8\" font-family=\"Times,serif\" font-size=\"14.00\">data 0.8814</text>\n",
       "<polyline fill=\"none\" stroke=\"black\" points=\"1187,-109.5 1187,-145.5 \"/>\n",
       "<text text-anchor=\"middle\" x=\"1228.5\" y=\"-123.8\" font-family=\"Times,serif\" font-size=\"14.00\">grad 0.5000</text>\n",
       "</g>\n",
       "<!-- 4710778048tanh -->\n",
       "<g id=\"node5\" class=\"node\">\n",
       "<title>4710778048tanh</title>\n",
       "<ellipse fill=\"none\" stroke=\"black\" cx=\"1333\" cy=\"-127.5\" rx=\"27\" ry=\"18\"/>\n",
       "<text text-anchor=\"middle\" x=\"1333\" y=\"-123.8\" font-family=\"Times,serif\" font-size=\"14.00\">tanh</text>\n",
       "</g>\n",
       "<!-- 4710777856&#45;&gt;4710778048tanh -->\n",
       "<g id=\"edge8\" class=\"edge\">\n",
       "<title>4710777856&#45;&gt;4710778048tanh</title>\n",
       "<path fill=\"none\" stroke=\"black\" d=\"M1270.29,-127.5C1279.2,-127.5 1287.81,-127.5 1295.64,-127.5\"/>\n",
       "<polygon fill=\"black\" stroke=\"black\" points=\"1295.77,-131 1305.77,-127.5 1295.77,-124 1295.77,-131\"/>\n",
       "</g>\n",
       "<!-- 4710777856+ -->\n",
       "<g id=\"node2\" class=\"node\">\n",
       "<title>4710777856+</title>\n",
       "<ellipse fill=\"none\" stroke=\"black\" cx=\"1019\" cy=\"-127.5\" rx=\"27\" ry=\"18\"/>\n",
       "<text text-anchor=\"middle\" x=\"1019\" y=\"-123.8\" font-family=\"Times,serif\" font-size=\"14.00\">+</text>\n",
       "</g>\n",
       "<!-- 4710777856+&#45;&gt;4710777856 -->\n",
       "<g id=\"edge1\" class=\"edge\">\n",
       "<title>4710777856+&#45;&gt;4710777856</title>\n",
       "<path fill=\"none\" stroke=\"black\" d=\"M1046.29,-127.5C1053.78,-127.5 1062.42,-127.5 1071.6,-127.5\"/>\n",
       "<polygon fill=\"black\" stroke=\"black\" points=\"1071.76,-131 1081.76,-127.5 1071.76,-124 1071.76,-131\"/>\n",
       "</g>\n",
       "<!-- 4710777376 -->\n",
       "<g id=\"node3\" class=\"node\">\n",
       "<title>4710777376</title>\n",
       "<polygon fill=\"none\" stroke=\"black\" points=\"723.5,-137.5 723.5,-173.5 911.5,-173.5 911.5,-137.5 723.5,-137.5\"/>\n",
       "<text text-anchor=\"middle\" x=\"735\" y=\"-151.8\" font-family=\"Times,serif\" font-size=\"14.00\">b</text>\n",
       "<polyline fill=\"none\" stroke=\"black\" points=\"746.5,-137.5 746.5,-173.5 \"/>\n",
       "<text text-anchor=\"middle\" x=\"787.5\" y=\"-151.8\" font-family=\"Times,serif\" font-size=\"14.00\">data 6.8814</text>\n",
       "<polyline fill=\"none\" stroke=\"black\" points=\"828.5,-137.5 828.5,-173.5 \"/>\n",
       "<text text-anchor=\"middle\" x=\"870\" y=\"-151.8\" font-family=\"Times,serif\" font-size=\"14.00\">grad 0.5000</text>\n",
       "</g>\n",
       "<!-- 4710777376&#45;&gt;4710777856+ -->\n",
       "<g id=\"edge10\" class=\"edge\">\n",
       "<title>4710777376&#45;&gt;4710777856+</title>\n",
       "<path fill=\"none\" stroke=\"black\" d=\"M911.53,-142.44C936.68,-138.91 962.39,-135.3 982.25,-132.52\"/>\n",
       "<polygon fill=\"black\" stroke=\"black\" points=\"982.93,-135.96 992.35,-131.1 981.96,-129.02 982.93,-135.96\"/>\n",
       "</g>\n",
       "<!-- 4710778048 -->\n",
       "<g id=\"node4\" class=\"node\">\n",
       "<title>4710778048</title>\n",
       "<polygon fill=\"none\" stroke=\"black\" points=\"1396,-109.5 1396,-145.5 1581,-145.5 1581,-109.5 1396,-109.5\"/>\n",
       "<text text-anchor=\"middle\" x=\"1406\" y=\"-123.8\" font-family=\"Times,serif\" font-size=\"14.00\"> </text>\n",
       "<polyline fill=\"none\" stroke=\"black\" points=\"1416,-109.5 1416,-145.5 \"/>\n",
       "<text text-anchor=\"middle\" x=\"1457\" y=\"-123.8\" font-family=\"Times,serif\" font-size=\"14.00\">data 0.7071</text>\n",
       "<polyline fill=\"none\" stroke=\"black\" points=\"1498,-109.5 1498,-145.5 \"/>\n",
       "<text text-anchor=\"middle\" x=\"1539.5\" y=\"-123.8\" font-family=\"Times,serif\" font-size=\"14.00\">grad 1.0000</text>\n",
       "</g>\n",
       "<!-- 4710778048tanh&#45;&gt;4710778048 -->\n",
       "<g id=\"edge2\" class=\"edge\">\n",
       "<title>4710778048tanh&#45;&gt;4710778048</title>\n",
       "<path fill=\"none\" stroke=\"black\" d=\"M1360.04,-127.5C1367.58,-127.5 1376.3,-127.5 1385.57,-127.5\"/>\n",
       "<polygon fill=\"black\" stroke=\"black\" points=\"1385.81,-131 1395.81,-127.5 1385.81,-124 1385.81,-131\"/>\n",
       "</g>\n",
       "<!-- 4710777568 -->\n",
       "<g id=\"node6\" class=\"node\">\n",
       "<title>4710777568</title>\n",
       "<polygon fill=\"none\" stroke=\"black\" points=\"331,-110.5 331,-146.5 551,-146.5 551,-110.5 331,-110.5\"/>\n",
       "<text text-anchor=\"middle\" x=\"358.5\" y=\"-124.8\" font-family=\"Times,serif\" font-size=\"14.00\">x2*w2</text>\n",
       "<polyline fill=\"none\" stroke=\"black\" points=\"386,-110.5 386,-146.5 \"/>\n",
       "<text text-anchor=\"middle\" x=\"427\" y=\"-124.8\" font-family=\"Times,serif\" font-size=\"14.00\">data 0.0000</text>\n",
       "<polyline fill=\"none\" stroke=\"black\" points=\"468,-110.5 468,-146.5 \"/>\n",
       "<text text-anchor=\"middle\" x=\"509.5\" y=\"-124.8\" font-family=\"Times,serif\" font-size=\"14.00\">grad 0.5000</text>\n",
       "</g>\n",
       "<!-- 4710777712+ -->\n",
       "<g id=\"node12\" class=\"node\">\n",
       "<title>4710777712+</title>\n",
       "<ellipse fill=\"none\" stroke=\"black\" cx=\"616\" cy=\"-100.5\" rx=\"27\" ry=\"18\"/>\n",
       "<text text-anchor=\"middle\" x=\"616\" y=\"-96.8\" font-family=\"Times,serif\" font-size=\"14.00\">+</text>\n",
       "</g>\n",
       "<!-- 4710777568&#45;&gt;4710777712+ -->\n",
       "<g id=\"edge7\" class=\"edge\">\n",
       "<title>4710777568&#45;&gt;4710777712+</title>\n",
       "<path fill=\"none\" stroke=\"black\" d=\"M551.07,-110.85C561.24,-109.2 570.96,-107.63 579.62,-106.23\"/>\n",
       "<polygon fill=\"black\" stroke=\"black\" points=\"580.3,-109.66 589.61,-104.61 579.18,-102.75 580.3,-109.66\"/>\n",
       "</g>\n",
       "<!-- 4710777568* -->\n",
       "<g id=\"node7\" class=\"node\">\n",
       "<title>4710777568*</title>\n",
       "<ellipse fill=\"none\" stroke=\"black\" cx=\"266\" cy=\"-128.5\" rx=\"27\" ry=\"18\"/>\n",
       "<text text-anchor=\"middle\" x=\"266\" y=\"-124.8\" font-family=\"Times,serif\" font-size=\"14.00\">*</text>\n",
       "</g>\n",
       "<!-- 4710777568*&#45;&gt;4710777568 -->\n",
       "<g id=\"edge3\" class=\"edge\">\n",
       "<title>4710777568*&#45;&gt;4710777568</title>\n",
       "<path fill=\"none\" stroke=\"black\" d=\"M293.27,-128.5C301.21,-128.5 310.5,-128.5 320.47,-128.5\"/>\n",
       "<polygon fill=\"black\" stroke=\"black\" points=\"320.65,-132 330.65,-128.5 320.65,-125 320.65,-132\"/>\n",
       "</g>\n",
       "<!-- 4710777664 -->\n",
       "<g id=\"node8\" class=\"node\">\n",
       "<title>4710777664</title>\n",
       "<polygon fill=\"none\" stroke=\"black\" points=\"329,-55.5 329,-91.5 553,-91.5 553,-55.5 329,-55.5\"/>\n",
       "<text text-anchor=\"middle\" x=\"356.5\" y=\"-69.8\" font-family=\"Times,serif\" font-size=\"14.00\">x1*w1</text>\n",
       "<polyline fill=\"none\" stroke=\"black\" points=\"384,-55.5 384,-91.5 \"/>\n",
       "<text text-anchor=\"middle\" x=\"427\" y=\"-69.8\" font-family=\"Times,serif\" font-size=\"14.00\">data &#45;6.0000</text>\n",
       "<polyline fill=\"none\" stroke=\"black\" points=\"470,-55.5 470,-91.5 \"/>\n",
       "<text text-anchor=\"middle\" x=\"511.5\" y=\"-69.8\" font-family=\"Times,serif\" font-size=\"14.00\">grad 0.5000</text>\n",
       "</g>\n",
       "<!-- 4710777664&#45;&gt;4710777712+ -->\n",
       "<g id=\"edge14\" class=\"edge\">\n",
       "<title>4710777664&#45;&gt;4710777712+</title>\n",
       "<path fill=\"none\" stroke=\"black\" d=\"M553.03,-90.83C562.46,-92.3 571.46,-93.7 579.54,-94.97\"/>\n",
       "<polygon fill=\"black\" stroke=\"black\" points=\"579.16,-98.45 589.58,-96.53 580.24,-91.53 579.16,-98.45\"/>\n",
       "</g>\n",
       "<!-- 4710777664* -->\n",
       "<g id=\"node9\" class=\"node\">\n",
       "<title>4710777664*</title>\n",
       "<ellipse fill=\"none\" stroke=\"black\" cx=\"266\" cy=\"-73.5\" rx=\"27\" ry=\"18\"/>\n",
       "<text text-anchor=\"middle\" x=\"266\" y=\"-69.8\" font-family=\"Times,serif\" font-size=\"14.00\">*</text>\n",
       "</g>\n",
       "<!-- 4710777664*&#45;&gt;4710777664 -->\n",
       "<g id=\"edge4\" class=\"edge\">\n",
       "<title>4710777664*&#45;&gt;4710777664</title>\n",
       "<path fill=\"none\" stroke=\"black\" d=\"M293.27,-73.5C300.7,-73.5 309.31,-73.5 318.55,-73.5\"/>\n",
       "<polygon fill=\"black\" stroke=\"black\" points=\"318.81,-77 328.81,-73.5 318.81,-70 318.81,-77\"/>\n",
       "</g>\n",
       "<!-- 4710777184 -->\n",
       "<g id=\"node10\" class=\"node\">\n",
       "<title>4710777184</title>\n",
       "<polygon fill=\"none\" stroke=\"black\" points=\"4,-165.5 4,-201.5 199,-201.5 199,-165.5 4,-165.5\"/>\n",
       "<text text-anchor=\"middle\" x=\"19\" y=\"-179.8\" font-family=\"Times,serif\" font-size=\"14.00\">x2</text>\n",
       "<polyline fill=\"none\" stroke=\"black\" points=\"34,-165.5 34,-201.5 \"/>\n",
       "<text text-anchor=\"middle\" x=\"75\" y=\"-179.8\" font-family=\"Times,serif\" font-size=\"14.00\">data 0.0000</text>\n",
       "<polyline fill=\"none\" stroke=\"black\" points=\"116,-165.5 116,-201.5 \"/>\n",
       "<text text-anchor=\"middle\" x=\"157.5\" y=\"-179.8\" font-family=\"Times,serif\" font-size=\"14.00\">grad 0.5000</text>\n",
       "</g>\n",
       "<!-- 4710777184&#45;&gt;4710777568* -->\n",
       "<g id=\"edge9\" class=\"edge\">\n",
       "<title>4710777184&#45;&gt;4710777568*</title>\n",
       "<path fill=\"none\" stroke=\"black\" d=\"M175.12,-165.49C184.57,-162.71 194.07,-159.69 203,-156.5 213.53,-152.73 224.76,-147.92 234.73,-143.35\"/>\n",
       "<polygon fill=\"black\" stroke=\"black\" points=\"236.26,-146.5 243.83,-139.09 233.29,-140.16 236.26,-146.5\"/>\n",
       "</g>\n",
       "<!-- 4710777712 -->\n",
       "<g id=\"node11\" class=\"node\">\n",
       "<title>4710777712</title>\n",
       "<polygon fill=\"none\" stroke=\"black\" points=\"679,-82.5 679,-118.5 956,-118.5 956,-82.5 679,-82.5\"/>\n",
       "<text text-anchor=\"middle\" x=\"733\" y=\"-96.8\" font-family=\"Times,serif\" font-size=\"14.00\">x1*w1 + x2*w2</text>\n",
       "<polyline fill=\"none\" stroke=\"black\" points=\"787,-82.5 787,-118.5 \"/>\n",
       "<text text-anchor=\"middle\" x=\"830\" y=\"-96.8\" font-family=\"Times,serif\" font-size=\"14.00\">data &#45;6.0000</text>\n",
       "<polyline fill=\"none\" stroke=\"black\" points=\"873,-82.5 873,-118.5 \"/>\n",
       "<text text-anchor=\"middle\" x=\"914.5\" y=\"-96.8\" font-family=\"Times,serif\" font-size=\"14.00\">grad 0.5000</text>\n",
       "</g>\n",
       "<!-- 4710777712&#45;&gt;4710777856+ -->\n",
       "<g id=\"edge13\" class=\"edge\">\n",
       "<title>4710777712&#45;&gt;4710777856+</title>\n",
       "<path fill=\"none\" stroke=\"black\" d=\"M951.57,-118.51C962.56,-120 972.95,-121.4 982.09,-122.64\"/>\n",
       "<polygon fill=\"black\" stroke=\"black\" points=\"981.85,-126.14 992.23,-124.01 982.79,-119.2 981.85,-126.14\"/>\n",
       "</g>\n",
       "<!-- 4710777712+&#45;&gt;4710777712 -->\n",
       "<g id=\"edge5\" class=\"edge\">\n",
       "<title>4710777712+&#45;&gt;4710777712</title>\n",
       "<path fill=\"none\" stroke=\"black\" d=\"M643.08,-100.5C650.53,-100.5 659.21,-100.5 668.65,-100.5\"/>\n",
       "<polygon fill=\"black\" stroke=\"black\" points=\"668.74,-104 678.74,-100.5 668.74,-97 668.74,-104\"/>\n",
       "</g>\n",
       "<!-- 4710777232 -->\n",
       "<g id=\"node13\" class=\"node\">\n",
       "<title>4710777232</title>\n",
       "<polygon fill=\"none\" stroke=\"black\" points=\"2,-110.5 2,-146.5 201,-146.5 201,-110.5 2,-110.5\"/>\n",
       "<text text-anchor=\"middle\" x=\"19\" y=\"-124.8\" font-family=\"Times,serif\" font-size=\"14.00\">w2</text>\n",
       "<polyline fill=\"none\" stroke=\"black\" points=\"36,-110.5 36,-146.5 \"/>\n",
       "<text text-anchor=\"middle\" x=\"77\" y=\"-124.8\" font-family=\"Times,serif\" font-size=\"14.00\">data 1.0000</text>\n",
       "<polyline fill=\"none\" stroke=\"black\" points=\"118,-110.5 118,-146.5 \"/>\n",
       "<text text-anchor=\"middle\" x=\"159.5\" y=\"-124.8\" font-family=\"Times,serif\" font-size=\"14.00\">grad 0.0000</text>\n",
       "</g>\n",
       "<!-- 4710777232&#45;&gt;4710777568* -->\n",
       "<g id=\"edge6\" class=\"edge\">\n",
       "<title>4710777232&#45;&gt;4710777568*</title>\n",
       "<path fill=\"none\" stroke=\"black\" d=\"M201.24,-128.5C210.96,-128.5 220.33,-128.5 228.76,-128.5\"/>\n",
       "<polygon fill=\"black\" stroke=\"black\" points=\"228.88,-132 238.88,-128.5 228.88,-125 228.88,-132\"/>\n",
       "</g>\n",
       "<!-- 4710777280 -->\n",
       "<g id=\"node14\" class=\"node\">\n",
       "<title>4710777280</title>\n",
       "<polygon fill=\"none\" stroke=\"black\" points=\"1.5,-55.5 1.5,-91.5 201.5,-91.5 201.5,-55.5 1.5,-55.5\"/>\n",
       "<text text-anchor=\"middle\" x=\"16.5\" y=\"-69.8\" font-family=\"Times,serif\" font-size=\"14.00\">x1</text>\n",
       "<polyline fill=\"none\" stroke=\"black\" points=\"31.5,-55.5 31.5,-91.5 \"/>\n",
       "<text text-anchor=\"middle\" x=\"72.5\" y=\"-69.8\" font-family=\"Times,serif\" font-size=\"14.00\">data 2.0000</text>\n",
       "<polyline fill=\"none\" stroke=\"black\" points=\"113.5,-55.5 113.5,-91.5 \"/>\n",
       "<text text-anchor=\"middle\" x=\"157.5\" y=\"-69.8\" font-family=\"Times,serif\" font-size=\"14.00\">grad &#45;1.5000</text>\n",
       "</g>\n",
       "<!-- 4710777280&#45;&gt;4710777664* -->\n",
       "<g id=\"edge11\" class=\"edge\">\n",
       "<title>4710777280&#45;&gt;4710777664*</title>\n",
       "<path fill=\"none\" stroke=\"black\" d=\"M201.71,-73.5C211.17,-73.5 220.3,-73.5 228.53,-73.5\"/>\n",
       "<polygon fill=\"black\" stroke=\"black\" points=\"228.79,-77 238.79,-73.5 228.79,-70 228.79,-77\"/>\n",
       "</g>\n",
       "<!-- 4710777328 -->\n",
       "<g id=\"node15\" class=\"node\">\n",
       "<title>4710777328</title>\n",
       "<polygon fill=\"none\" stroke=\"black\" points=\"0,-0.5 0,-36.5 203,-36.5 203,-0.5 0,-0.5\"/>\n",
       "<text text-anchor=\"middle\" x=\"17\" y=\"-14.8\" font-family=\"Times,serif\" font-size=\"14.00\">w1</text>\n",
       "<polyline fill=\"none\" stroke=\"black\" points=\"34,-0.5 34,-36.5 \"/>\n",
       "<text text-anchor=\"middle\" x=\"77\" y=\"-14.8\" font-family=\"Times,serif\" font-size=\"14.00\">data &#45;3.0000</text>\n",
       "<polyline fill=\"none\" stroke=\"black\" points=\"120,-0.5 120,-36.5 \"/>\n",
       "<text text-anchor=\"middle\" x=\"161.5\" y=\"-14.8\" font-family=\"Times,serif\" font-size=\"14.00\">grad 1.0000</text>\n",
       "</g>\n",
       "<!-- 4710777328&#45;&gt;4710777664* -->\n",
       "<g id=\"edge12\" class=\"edge\">\n",
       "<title>4710777328&#45;&gt;4710777664*</title>\n",
       "<path fill=\"none\" stroke=\"black\" d=\"M172.1,-36.53C182.53,-39.62 193.1,-42.98 203,-46.5 213.29,-50.15 224.28,-54.72 234.12,-59.04\"/>\n",
       "<polygon fill=\"black\" stroke=\"black\" points=\"232.93,-62.35 243.49,-63.25 235.8,-55.96 232.93,-62.35\"/>\n",
       "</g>\n",
       "</g>\n",
       "</svg>\n"
      ],
      "text/plain": [
       "<graphviz.graphs.Digraph at 0x118c7baf0>"
      ]
     },
     "execution_count": 19,
     "metadata": {},
     "output_type": "execute_result"
    }
   ],
   "source": [
    "draw_dot(o)"
   ]
  },
  {
   "cell_type": "markdown",
   "id": "b20649f3",
   "metadata": {
    "ExecuteTime": {
     "end_time": "2022-08-19T23:51:18.240809Z",
     "start_time": "2022-08-19T23:51:18.234536Z"
    }
   },
   "source": [
    "### Auto diff/backprop\n",
    "Changes/additions made for autodiff: \n",
    "1. defining _backward() for operators in Value class\n",
    "2. applying topological sort to avoid calling backward multiple times (and to resolve dependencies for backward calls for shallow/earlier nodes)\n",
    "3. Setting initial(starting) value of global out.grad as 1 (Since backward calculation on operator nodes involves multiplying by the globally maintained derivative)"
   ]
  },
  {
   "cell_type": "code",
   "execution_count": 24,
   "id": "ca3e07a4",
   "metadata": {
    "ExecuteTime": {
     "end_time": "2022-10-13T06:26:48.023124Z",
     "start_time": "2022-10-13T06:26:48.016284Z"
    }
   },
   "outputs": [],
   "source": [
    "# inputs x1,x2\n",
    "x1 = Value(2.0, label='x1')\n",
    "x2 = Value(0.0, label='x2')\n",
    "# weights w1,w2\n",
    "w1 = Value(-3.0, label='w1')\n",
    "w2 = Value(1.0, label='w2')\n",
    "# bias of the neuron\n",
    "b = Value(6.8813735870195342, label='b')\n",
    "# x1*w1 + x2*w2 + b\n",
    "x1w1 = x1 * w1; x1w1.label='x1*w1'\n",
    "x2w2 = x2 * w2; x2w2.label='x2*w2'\n",
    "x1w1x2w2 = x1w1 + x2w2; x1w1x2w2.label = 'x1*w1 + x2*w2'\n",
    "n = x1w1x2w2 + b; n.label = 'n'\n",
    "o = n.tanh(); o.label = 'o'"
   ]
  },
  {
   "cell_type": "code",
   "execution_count": 27,
   "id": "57f8475a",
   "metadata": {
    "ExecuteTime": {
     "end_time": "2022-10-13T06:26:55.324538Z",
     "start_time": "2022-10-13T06:26:55.169013Z"
    }
   },
   "outputs": [
    {
     "data": {
      "image/svg+xml": [
       "<?xml version=\"1.0\" encoding=\"UTF-8\" standalone=\"no\"?>\n",
       "<!DOCTYPE svg PUBLIC \"-//W3C//DTD SVG 1.1//EN\"\n",
       " \"http://www.w3.org/Graphics/SVG/1.1/DTD/svg11.dtd\">\n",
       "<!-- Generated by graphviz version 2.49.3 (0)\n",
       " -->\n",
       "<!-- Pages: 1 -->\n",
       "<svg width=\"1592pt\" height=\"210pt\"\n",
       " viewBox=\"0.00 0.00 1592.00 210.00\" xmlns=\"http://www.w3.org/2000/svg\" xmlns:xlink=\"http://www.w3.org/1999/xlink\">\n",
       "<g id=\"graph0\" class=\"graph\" transform=\"scale(1 1) rotate(0) translate(4 206)\">\n",
       "<polygon fill=\"white\" stroke=\"transparent\" points=\"-4,4 -4,-206 1588,-206 1588,4 -4,4\"/>\n",
       "<!-- 4711642160 -->\n",
       "<g id=\"node1\" class=\"node\">\n",
       "<title>4711642160</title>\n",
       "<polygon fill=\"none\" stroke=\"black\" points=\"679,-82.5 679,-118.5 956,-118.5 956,-82.5 679,-82.5\"/>\n",
       "<text text-anchor=\"middle\" x=\"733\" y=\"-96.8\" font-family=\"Times,serif\" font-size=\"14.00\">x1*w1 + x2*w2</text>\n",
       "<polyline fill=\"none\" stroke=\"black\" points=\"787,-82.5 787,-118.5 \"/>\n",
       "<text text-anchor=\"middle\" x=\"830\" y=\"-96.8\" font-family=\"Times,serif\" font-size=\"14.00\">data &#45;6.0000</text>\n",
       "<polyline fill=\"none\" stroke=\"black\" points=\"873,-82.5 873,-118.5 \"/>\n",
       "<text text-anchor=\"middle\" x=\"914.5\" y=\"-96.8\" font-family=\"Times,serif\" font-size=\"14.00\">grad 0.5000</text>\n",
       "</g>\n",
       "<!-- 4711642496+ -->\n",
       "<g id=\"node12\" class=\"node\">\n",
       "<title>4711642496+</title>\n",
       "<ellipse fill=\"none\" stroke=\"black\" cx=\"1019\" cy=\"-127.5\" rx=\"27\" ry=\"18\"/>\n",
       "<text text-anchor=\"middle\" x=\"1019\" y=\"-123.8\" font-family=\"Times,serif\" font-size=\"14.00\">+</text>\n",
       "</g>\n",
       "<!-- 4711642160&#45;&gt;4711642496+ -->\n",
       "<g id=\"edge13\" class=\"edge\">\n",
       "<title>4711642160&#45;&gt;4711642496+</title>\n",
       "<path fill=\"none\" stroke=\"black\" d=\"M951.57,-118.51C962.56,-120 972.95,-121.4 982.09,-122.64\"/>\n",
       "<polygon fill=\"black\" stroke=\"black\" points=\"981.85,-126.14 992.23,-124.01 982.79,-119.2 981.85,-126.14\"/>\n",
       "</g>\n",
       "<!-- 4711642160+ -->\n",
       "<g id=\"node2\" class=\"node\">\n",
       "<title>4711642160+</title>\n",
       "<ellipse fill=\"none\" stroke=\"black\" cx=\"616\" cy=\"-100.5\" rx=\"27\" ry=\"18\"/>\n",
       "<text text-anchor=\"middle\" x=\"616\" y=\"-96.8\" font-family=\"Times,serif\" font-size=\"14.00\">+</text>\n",
       "</g>\n",
       "<!-- 4711642160+&#45;&gt;4711642160 -->\n",
       "<g id=\"edge1\" class=\"edge\">\n",
       "<title>4711642160+&#45;&gt;4711642160</title>\n",
       "<path fill=\"none\" stroke=\"black\" d=\"M643.08,-100.5C650.53,-100.5 659.21,-100.5 668.65,-100.5\"/>\n",
       "<polygon fill=\"black\" stroke=\"black\" points=\"668.74,-104 678.74,-100.5 668.74,-97 668.74,-104\"/>\n",
       "</g>\n",
       "<!-- 4711641152 -->\n",
       "<g id=\"node3\" class=\"node\">\n",
       "<title>4711641152</title>\n",
       "<polygon fill=\"none\" stroke=\"black\" points=\"1396,-109.5 1396,-145.5 1584,-145.5 1584,-109.5 1396,-109.5\"/>\n",
       "<text text-anchor=\"middle\" x=\"1407.5\" y=\"-123.8\" font-family=\"Times,serif\" font-size=\"14.00\">o</text>\n",
       "<polyline fill=\"none\" stroke=\"black\" points=\"1419,-109.5 1419,-145.5 \"/>\n",
       "<text text-anchor=\"middle\" x=\"1460\" y=\"-123.8\" font-family=\"Times,serif\" font-size=\"14.00\">data 0.7071</text>\n",
       "<polyline fill=\"none\" stroke=\"black\" points=\"1501,-109.5 1501,-145.5 \"/>\n",
       "<text text-anchor=\"middle\" x=\"1542.5\" y=\"-123.8\" font-family=\"Times,serif\" font-size=\"14.00\">grad 1.0000</text>\n",
       "</g>\n",
       "<!-- 4711641152tanh -->\n",
       "<g id=\"node4\" class=\"node\">\n",
       "<title>4711641152tanh</title>\n",
       "<ellipse fill=\"none\" stroke=\"black\" cx=\"1333\" cy=\"-127.5\" rx=\"27\" ry=\"18\"/>\n",
       "<text text-anchor=\"middle\" x=\"1333\" y=\"-123.8\" font-family=\"Times,serif\" font-size=\"14.00\">tanh</text>\n",
       "</g>\n",
       "<!-- 4711641152tanh&#45;&gt;4711641152 -->\n",
       "<g id=\"edge2\" class=\"edge\">\n",
       "<title>4711641152tanh&#45;&gt;4711641152</title>\n",
       "<path fill=\"none\" stroke=\"black\" d=\"M1360.29,-127.5C1367.78,-127.5 1376.42,-127.5 1385.6,-127.5\"/>\n",
       "<polygon fill=\"black\" stroke=\"black\" points=\"1385.76,-131 1395.76,-127.5 1385.76,-124 1385.76,-131\"/>\n",
       "</g>\n",
       "<!-- 4711642256 -->\n",
       "<g id=\"node5\" class=\"node\">\n",
       "<title>4711642256</title>\n",
       "<polygon fill=\"none\" stroke=\"black\" points=\"1.5,-165.5 1.5,-201.5 201.5,-201.5 201.5,-165.5 1.5,-165.5\"/>\n",
       "<text text-anchor=\"middle\" x=\"16.5\" y=\"-179.8\" font-family=\"Times,serif\" font-size=\"14.00\">x1</text>\n",
       "<polyline fill=\"none\" stroke=\"black\" points=\"31.5,-165.5 31.5,-201.5 \"/>\n",
       "<text text-anchor=\"middle\" x=\"72.5\" y=\"-179.8\" font-family=\"Times,serif\" font-size=\"14.00\">data 2.0000</text>\n",
       "<polyline fill=\"none\" stroke=\"black\" points=\"113.5,-165.5 113.5,-201.5 \"/>\n",
       "<text text-anchor=\"middle\" x=\"157.5\" y=\"-179.8\" font-family=\"Times,serif\" font-size=\"14.00\">grad &#45;1.5000</text>\n",
       "</g>\n",
       "<!-- 4711642832* -->\n",
       "<g id=\"node7\" class=\"node\">\n",
       "<title>4711642832*</title>\n",
       "<ellipse fill=\"none\" stroke=\"black\" cx=\"266\" cy=\"-128.5\" rx=\"27\" ry=\"18\"/>\n",
       "<text text-anchor=\"middle\" x=\"266\" y=\"-124.8\" font-family=\"Times,serif\" font-size=\"14.00\">*</text>\n",
       "</g>\n",
       "<!-- 4711642256&#45;&gt;4711642832* -->\n",
       "<g id=\"edge14\" class=\"edge\">\n",
       "<title>4711642256&#45;&gt;4711642832*</title>\n",
       "<path fill=\"none\" stroke=\"black\" d=\"M175.12,-165.49C184.57,-162.71 194.07,-159.69 203,-156.5 213.53,-152.73 224.76,-147.92 234.73,-143.35\"/>\n",
       "<polygon fill=\"black\" stroke=\"black\" points=\"236.26,-146.5 243.83,-139.09 233.29,-140.16 236.26,-146.5\"/>\n",
       "</g>\n",
       "<!-- 4711642832 -->\n",
       "<g id=\"node6\" class=\"node\">\n",
       "<title>4711642832</title>\n",
       "<polygon fill=\"none\" stroke=\"black\" points=\"329,-110.5 329,-146.5 553,-146.5 553,-110.5 329,-110.5\"/>\n",
       "<text text-anchor=\"middle\" x=\"356.5\" y=\"-124.8\" font-family=\"Times,serif\" font-size=\"14.00\">x1*w1</text>\n",
       "<polyline fill=\"none\" stroke=\"black\" points=\"384,-110.5 384,-146.5 \"/>\n",
       "<text text-anchor=\"middle\" x=\"427\" y=\"-124.8\" font-family=\"Times,serif\" font-size=\"14.00\">data &#45;6.0000</text>\n",
       "<polyline fill=\"none\" stroke=\"black\" points=\"470,-110.5 470,-146.5 \"/>\n",
       "<text text-anchor=\"middle\" x=\"511.5\" y=\"-124.8\" font-family=\"Times,serif\" font-size=\"14.00\">grad 0.5000</text>\n",
       "</g>\n",
       "<!-- 4711642832&#45;&gt;4711642160+ -->\n",
       "<g id=\"edge8\" class=\"edge\">\n",
       "<title>4711642832&#45;&gt;4711642160+</title>\n",
       "<path fill=\"none\" stroke=\"black\" d=\"M553.03,-110.53C562.46,-109 571.46,-107.55 579.54,-106.24\"/>\n",
       "<polygon fill=\"black\" stroke=\"black\" points=\"580.27,-109.67 589.58,-104.61 579.15,-102.76 580.27,-109.67\"/>\n",
       "</g>\n",
       "<!-- 4711642832*&#45;&gt;4711642832 -->\n",
       "<g id=\"edge3\" class=\"edge\">\n",
       "<title>4711642832*&#45;&gt;4711642832</title>\n",
       "<path fill=\"none\" stroke=\"black\" d=\"M293.27,-128.5C300.7,-128.5 309.31,-128.5 318.55,-128.5\"/>\n",
       "<polygon fill=\"black\" stroke=\"black\" points=\"318.81,-132 328.81,-128.5 318.81,-125 318.81,-132\"/>\n",
       "</g>\n",
       "<!-- 4711642352 -->\n",
       "<g id=\"node8\" class=\"node\">\n",
       "<title>4711642352</title>\n",
       "<polygon fill=\"none\" stroke=\"black\" points=\"331,-55.5 331,-91.5 551,-91.5 551,-55.5 331,-55.5\"/>\n",
       "<text text-anchor=\"middle\" x=\"358.5\" y=\"-69.8\" font-family=\"Times,serif\" font-size=\"14.00\">x2*w2</text>\n",
       "<polyline fill=\"none\" stroke=\"black\" points=\"386,-55.5 386,-91.5 \"/>\n",
       "<text text-anchor=\"middle\" x=\"427\" y=\"-69.8\" font-family=\"Times,serif\" font-size=\"14.00\">data 0.0000</text>\n",
       "<polyline fill=\"none\" stroke=\"black\" points=\"468,-55.5 468,-91.5 \"/>\n",
       "<text text-anchor=\"middle\" x=\"509.5\" y=\"-69.8\" font-family=\"Times,serif\" font-size=\"14.00\">grad 0.5000</text>\n",
       "</g>\n",
       "<!-- 4711642352&#45;&gt;4711642160+ -->\n",
       "<g id=\"edge11\" class=\"edge\">\n",
       "<title>4711642352&#45;&gt;4711642160+</title>\n",
       "<path fill=\"none\" stroke=\"black\" d=\"M551.07,-90.52C561.24,-92.11 570.96,-93.63 579.62,-94.98\"/>\n",
       "<polygon fill=\"black\" stroke=\"black\" points=\"579.19,-98.45 589.61,-96.54 580.27,-91.54 579.19,-98.45\"/>\n",
       "</g>\n",
       "<!-- 4711642352* -->\n",
       "<g id=\"node9\" class=\"node\">\n",
       "<title>4711642352*</title>\n",
       "<ellipse fill=\"none\" stroke=\"black\" cx=\"266\" cy=\"-73.5\" rx=\"27\" ry=\"18\"/>\n",
       "<text text-anchor=\"middle\" x=\"266\" y=\"-69.8\" font-family=\"Times,serif\" font-size=\"14.00\">*</text>\n",
       "</g>\n",
       "<!-- 4711642352*&#45;&gt;4711642352 -->\n",
       "<g id=\"edge4\" class=\"edge\">\n",
       "<title>4711642352*&#45;&gt;4711642352</title>\n",
       "<path fill=\"none\" stroke=\"black\" d=\"M293.27,-73.5C301.21,-73.5 310.5,-73.5 320.47,-73.5\"/>\n",
       "<polygon fill=\"black\" stroke=\"black\" points=\"320.65,-77 330.65,-73.5 320.65,-70 320.65,-77\"/>\n",
       "</g>\n",
       "<!-- 4711643888 -->\n",
       "<g id=\"node10\" class=\"node\">\n",
       "<title>4711643888</title>\n",
       "<polygon fill=\"none\" stroke=\"black\" points=\"723.5,-137.5 723.5,-173.5 911.5,-173.5 911.5,-137.5 723.5,-137.5\"/>\n",
       "<text text-anchor=\"middle\" x=\"735\" y=\"-151.8\" font-family=\"Times,serif\" font-size=\"14.00\">b</text>\n",
       "<polyline fill=\"none\" stroke=\"black\" points=\"746.5,-137.5 746.5,-173.5 \"/>\n",
       "<text text-anchor=\"middle\" x=\"787.5\" y=\"-151.8\" font-family=\"Times,serif\" font-size=\"14.00\">data 6.8814</text>\n",
       "<polyline fill=\"none\" stroke=\"black\" points=\"828.5,-137.5 828.5,-173.5 \"/>\n",
       "<text text-anchor=\"middle\" x=\"870\" y=\"-151.8\" font-family=\"Times,serif\" font-size=\"14.00\">grad 0.5000</text>\n",
       "</g>\n",
       "<!-- 4711643888&#45;&gt;4711642496+ -->\n",
       "<g id=\"edge12\" class=\"edge\">\n",
       "<title>4711643888&#45;&gt;4711642496+</title>\n",
       "<path fill=\"none\" stroke=\"black\" d=\"M911.53,-142.44C936.68,-138.91 962.39,-135.3 982.25,-132.52\"/>\n",
       "<polygon fill=\"black\" stroke=\"black\" points=\"982.93,-135.96 992.35,-131.1 981.96,-129.02 982.93,-135.96\"/>\n",
       "</g>\n",
       "<!-- 4711642496 -->\n",
       "<g id=\"node11\" class=\"node\">\n",
       "<title>4711642496</title>\n",
       "<polygon fill=\"none\" stroke=\"black\" points=\"1082,-109.5 1082,-145.5 1270,-145.5 1270,-109.5 1082,-109.5\"/>\n",
       "<text text-anchor=\"middle\" x=\"1093.5\" y=\"-123.8\" font-family=\"Times,serif\" font-size=\"14.00\">n</text>\n",
       "<polyline fill=\"none\" stroke=\"black\" points=\"1105,-109.5 1105,-145.5 \"/>\n",
       "<text text-anchor=\"middle\" x=\"1146\" y=\"-123.8\" font-family=\"Times,serif\" font-size=\"14.00\">data 0.8814</text>\n",
       "<polyline fill=\"none\" stroke=\"black\" points=\"1187,-109.5 1187,-145.5 \"/>\n",
       "<text text-anchor=\"middle\" x=\"1228.5\" y=\"-123.8\" font-family=\"Times,serif\" font-size=\"14.00\">grad 0.5000</text>\n",
       "</g>\n",
       "<!-- 4711642496&#45;&gt;4711641152tanh -->\n",
       "<g id=\"edge6\" class=\"edge\">\n",
       "<title>4711642496&#45;&gt;4711641152tanh</title>\n",
       "<path fill=\"none\" stroke=\"black\" d=\"M1270.29,-127.5C1279.2,-127.5 1287.81,-127.5 1295.64,-127.5\"/>\n",
       "<polygon fill=\"black\" stroke=\"black\" points=\"1295.77,-131 1305.77,-127.5 1295.77,-124 1295.77,-131\"/>\n",
       "</g>\n",
       "<!-- 4711642496+&#45;&gt;4711642496 -->\n",
       "<g id=\"edge5\" class=\"edge\">\n",
       "<title>4711642496+&#45;&gt;4711642496</title>\n",
       "<path fill=\"none\" stroke=\"black\" d=\"M1046.29,-127.5C1053.78,-127.5 1062.42,-127.5 1071.6,-127.5\"/>\n",
       "<polygon fill=\"black\" stroke=\"black\" points=\"1071.76,-131 1081.76,-127.5 1071.76,-124 1071.76,-131\"/>\n",
       "</g>\n",
       "<!-- 4711643024 -->\n",
       "<g id=\"node13\" class=\"node\">\n",
       "<title>4711643024</title>\n",
       "<polygon fill=\"none\" stroke=\"black\" points=\"0,-110.5 0,-146.5 203,-146.5 203,-110.5 0,-110.5\"/>\n",
       "<text text-anchor=\"middle\" x=\"17\" y=\"-124.8\" font-family=\"Times,serif\" font-size=\"14.00\">w1</text>\n",
       "<polyline fill=\"none\" stroke=\"black\" points=\"34,-110.5 34,-146.5 \"/>\n",
       "<text text-anchor=\"middle\" x=\"77\" y=\"-124.8\" font-family=\"Times,serif\" font-size=\"14.00\">data &#45;3.0000</text>\n",
       "<polyline fill=\"none\" stroke=\"black\" points=\"120,-110.5 120,-146.5 \"/>\n",
       "<text text-anchor=\"middle\" x=\"161.5\" y=\"-124.8\" font-family=\"Times,serif\" font-size=\"14.00\">grad 1.0000</text>\n",
       "</g>\n",
       "<!-- 4711643024&#45;&gt;4711642832* -->\n",
       "<g id=\"edge7\" class=\"edge\">\n",
       "<title>4711643024&#45;&gt;4711642832*</title>\n",
       "<path fill=\"none\" stroke=\"black\" d=\"M203.1,-128.5C212.12,-128.5 220.8,-128.5 228.66,-128.5\"/>\n",
       "<polygon fill=\"black\" stroke=\"black\" points=\"228.83,-132 238.83,-128.5 228.83,-125 228.83,-132\"/>\n",
       "</g>\n",
       "<!-- 4711644656 -->\n",
       "<g id=\"node14\" class=\"node\">\n",
       "<title>4711644656</title>\n",
       "<polygon fill=\"none\" stroke=\"black\" points=\"4,-55.5 4,-91.5 199,-91.5 199,-55.5 4,-55.5\"/>\n",
       "<text text-anchor=\"middle\" x=\"19\" y=\"-69.8\" font-family=\"Times,serif\" font-size=\"14.00\">x2</text>\n",
       "<polyline fill=\"none\" stroke=\"black\" points=\"34,-55.5 34,-91.5 \"/>\n",
       "<text text-anchor=\"middle\" x=\"75\" y=\"-69.8\" font-family=\"Times,serif\" font-size=\"14.00\">data 0.0000</text>\n",
       "<polyline fill=\"none\" stroke=\"black\" points=\"116,-55.5 116,-91.5 \"/>\n",
       "<text text-anchor=\"middle\" x=\"157.5\" y=\"-69.8\" font-family=\"Times,serif\" font-size=\"14.00\">grad 0.5000</text>\n",
       "</g>\n",
       "<!-- 4711644656&#45;&gt;4711642352* -->\n",
       "<g id=\"edge10\" class=\"edge\">\n",
       "<title>4711644656&#45;&gt;4711642352*</title>\n",
       "<path fill=\"none\" stroke=\"black\" d=\"M199.37,-73.5C209.83,-73.5 219.92,-73.5 228.93,-73.5\"/>\n",
       "<polygon fill=\"black\" stroke=\"black\" points=\"228.97,-77 238.97,-73.5 228.97,-70 228.97,-77\"/>\n",
       "</g>\n",
       "<!-- 4711643120 -->\n",
       "<g id=\"node15\" class=\"node\">\n",
       "<title>4711643120</title>\n",
       "<polygon fill=\"none\" stroke=\"black\" points=\"2,-0.5 2,-36.5 201,-36.5 201,-0.5 2,-0.5\"/>\n",
       "<text text-anchor=\"middle\" x=\"19\" y=\"-14.8\" font-family=\"Times,serif\" font-size=\"14.00\">w2</text>\n",
       "<polyline fill=\"none\" stroke=\"black\" points=\"36,-0.5 36,-36.5 \"/>\n",
       "<text text-anchor=\"middle\" x=\"77\" y=\"-14.8\" font-family=\"Times,serif\" font-size=\"14.00\">data 1.0000</text>\n",
       "<polyline fill=\"none\" stroke=\"black\" points=\"118,-0.5 118,-36.5 \"/>\n",
       "<text text-anchor=\"middle\" x=\"159.5\" y=\"-14.8\" font-family=\"Times,serif\" font-size=\"14.00\">grad 0.0000</text>\n",
       "</g>\n",
       "<!-- 4711643120&#45;&gt;4711642352* -->\n",
       "<g id=\"edge9\" class=\"edge\">\n",
       "<title>4711643120&#45;&gt;4711642352*</title>\n",
       "<path fill=\"none\" stroke=\"black\" d=\"M172.1,-36.53C182.53,-39.62 193.1,-42.98 203,-46.5 213.29,-50.15 224.28,-54.72 234.12,-59.04\"/>\n",
       "<polygon fill=\"black\" stroke=\"black\" points=\"232.93,-62.35 243.49,-63.25 235.8,-55.96 232.93,-62.35\"/>\n",
       "</g>\n",
       "</g>\n",
       "</svg>\n"
      ],
      "text/plain": [
       "<graphviz.graphs.Digraph at 0x118d59c70>"
      ]
     },
     "execution_count": 27,
     "metadata": {},
     "output_type": "execute_result"
    }
   ],
   "source": [
    "draw_dot(o)"
   ]
  },
  {
   "cell_type": "code",
   "execution_count": 26,
   "id": "18a242b2",
   "metadata": {
    "ExecuteTime": {
     "end_time": "2022-10-13T06:26:54.191953Z",
     "start_time": "2022-10-13T06:26:54.188438Z"
    }
   },
   "outputs": [],
   "source": [
    "o.backward()"
   ]
  },
  {
   "cell_type": "code",
   "execution_count": null,
   "id": "da0894b4",
   "metadata": {
    "ExecuteTime": {
     "end_time": "2022-10-13T06:25:51.664709Z",
     "start_time": "2022-10-13T06:25:51.664700Z"
    }
   },
   "outputs": [],
   "source": [
    "n._backward()"
   ]
  },
  {
   "cell_type": "code",
   "execution_count": null,
   "id": "cb3d4b43",
   "metadata": {
    "ExecuteTime": {
     "end_time": "2022-10-13T06:25:51.665456Z",
     "start_time": "2022-10-13T06:25:51.665448Z"
    }
   },
   "outputs": [],
   "source": [
    "b._backward()"
   ]
  },
  {
   "cell_type": "code",
   "execution_count": null,
   "id": "ae4e4f37",
   "metadata": {
    "ExecuteTime": {
     "end_time": "2022-10-13T06:25:51.666026Z",
     "start_time": "2022-10-13T06:25:51.666019Z"
    }
   },
   "outputs": [],
   "source": [
    "x1w1x2w2._backward()"
   ]
  },
  {
   "cell_type": "code",
   "execution_count": null,
   "id": "12e7dddb",
   "metadata": {
    "ExecuteTime": {
     "end_time": "2022-10-13T06:25:51.667119Z",
     "start_time": "2022-10-13T06:25:51.667107Z"
    }
   },
   "outputs": [],
   "source": [
    "x1w1._backward()\n",
    "x2w2._backward()"
   ]
  },
  {
   "cell_type": "code",
   "execution_count": null,
   "id": "85e85dcb",
   "metadata": {},
   "outputs": [],
   "source": []
  }
 ],
 "metadata": {
  "kernelspec": {
   "display_name": "Python 3 (ipykernel)",
   "language": "python",
   "name": "python3"
  },
  "language_info": {
   "codemirror_mode": {
    "name": "ipython",
    "version": 3
   },
   "file_extension": ".py",
   "mimetype": "text/x-python",
   "name": "python",
   "nbconvert_exporter": "python",
   "pygments_lexer": "ipython3",
   "version": "3.8.12"
  },
  "toc": {
   "base_numbering": 1,
   "nav_menu": {},
   "number_sections": true,
   "sideBar": true,
   "skip_h1_title": false,
   "title_cell": "Table of Contents",
   "title_sidebar": "Contents",
   "toc_cell": false,
   "toc_position": {},
   "toc_section_display": true,
   "toc_window_display": false
  },
  "varInspector": {
   "cols": {
    "lenName": 16,
    "lenType": 16,
    "lenVar": 40
   },
   "kernels_config": {
    "python": {
     "delete_cmd_postfix": "",
     "delete_cmd_prefix": "del ",
     "library": "var_list.py",
     "varRefreshCmd": "print(var_dic_list())"
    },
    "r": {
     "delete_cmd_postfix": ") ",
     "delete_cmd_prefix": "rm(",
     "library": "var_list.r",
     "varRefreshCmd": "cat(var_dic_list()) "
    }
   },
   "types_to_exclude": [
    "module",
    "function",
    "builtin_function_or_method",
    "instance",
    "_Feature"
   ],
   "window_display": false
  }
 },
 "nbformat": 4,
 "nbformat_minor": 5
}
