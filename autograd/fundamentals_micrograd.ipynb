{
 "cells": [
  {
   "cell_type": "code",
   "execution_count": 12,
   "id": "c9561128",
   "metadata": {
    "ExecuteTime": {
     "end_time": "2022-08-18T15:57:39.939633Z",
     "start_time": "2022-08-18T15:57:39.934478Z"
    }
   },
   "outputs": [],
   "source": [
    "import math\n",
    "import numpy as np\n",
    "import matplotlib.pyplot as plt\n",
    "%matplotlib inline"
   ]
  },
  {
   "cell_type": "code",
   "execution_count": 13,
   "id": "154b790a",
   "metadata": {
    "ExecuteTime": {
     "end_time": "2022-08-18T15:57:40.119821Z",
     "start_time": "2022-08-18T15:57:40.116496Z"
    }
   },
   "outputs": [],
   "source": [
    "def f(x):\n",
    "    return 3*x**2 - 4*x + 5"
   ]
  },
  {
   "cell_type": "code",
   "execution_count": 14,
   "id": "0bfe884a",
   "metadata": {
    "ExecuteTime": {
     "end_time": "2022-08-18T15:57:40.278970Z",
     "start_time": "2022-08-18T15:57:40.275288Z"
    }
   },
   "outputs": [
    {
     "data": {
      "text/plain": [
       "20.0"
      ]
     },
     "execution_count": 14,
     "metadata": {},
     "output_type": "execute_result"
    }
   ],
   "source": [
    "f(3.0)"
   ]
  },
  {
   "cell_type": "code",
   "execution_count": 15,
   "id": "a680e57e",
   "metadata": {
    "ExecuteTime": {
     "end_time": "2022-08-18T15:57:40.540433Z",
     "start_time": "2022-08-18T15:57:40.460042Z"
    }
   },
   "outputs": [
    {
     "data": {
      "text/plain": [
       "[<matplotlib.lines.Line2D at 0x11ae80d00>]"
      ]
     },
     "execution_count": 15,
     "metadata": {},
     "output_type": "execute_result"
    },
    {
     "data": {
      "image/png": "[encoded data removed]",
      "text/plain": [
       "<Figure size 432x288 with 1 Axes>"
      ]
     },
     "metadata": {
      "needs_background": "light"
     },
     "output_type": "display_data"
    }
   ],
   "source": [
    "xs = np.arange(-5,5,0.25)\n",
    "ys = f(xs)\n",
    "plt.plot(xs,ys)"
   ]
  },
  {
   "cell_type": "code",
   "execution_count": 24,
   "id": "b7c37a37",
   "metadata": {
    "ExecuteTime": {
     "end_time": "2022-08-18T16:05:00.927338Z",
     "start_time": "2022-08-18T16:05:00.923751Z"
    }
   },
   "outputs": [],
   "source": [
    "h = 0.0001\n",
    "def derivative_info(x, delta):\n",
    "    print(f\"fn value at x: {f(x)}\")\n",
    "    print(f\"fn value at x+h: {f(x+h)}\")\n",
    "    print(f\"difference in value: {f(x+h) - f(x)}\")\n",
    "    print(f\"slope (strength/rate of change of dependent variable as independent var changes: {(f(x+h)-f(x))/h}\")"
   ]
  },
  {
   "cell_type": "code",
   "execution_count": 25,
   "id": "be41a81b",
   "metadata": {
    "ExecuteTime": {
     "end_time": "2022-08-18T16:05:01.259888Z",
     "start_time": "2022-08-18T16:05:01.256733Z"
    }
   },
   "outputs": [
    {
     "name": "stdout",
     "output_type": "stream",
     "text": [
      "fn value at x: 20\n",
      "fn value at x+h: 20.001400030000006\n",
      "difference in value: 0.0014000300000063248\n",
      "slope (strength/rate of change of dependent variable as independent var changes: 14.000300000063248\n"
     ]
    }
   ],
   "source": [
    "derivative_info(3, h)"
   ]
  },
  {
   "cell_type": "code",
   "execution_count": 26,
   "id": "4b268bc0",
   "metadata": {
    "ExecuteTime": {
     "end_time": "2022-08-18T16:05:01.471937Z",
     "start_time": "2022-08-18T16:05:01.468779Z"
    }
   },
   "outputs": [
    {
     "name": "stdout",
     "output_type": "stream",
     "text": [
      "fn value at x: 44\n",
      "fn value at x+h: 43.99780002999999\n",
      "difference in value: -0.0021999700000066014\n",
      "slope (strength/rate of change of dependent variable as independent var changes: -21.999700000066014\n"
     ]
    }
   ],
   "source": [
    "derivative_info(-3, h)"
   ]
  },
  {
   "cell_type": "code",
   "execution_count": 53,
   "id": "bc3b99fe",
   "metadata": {
    "ExecuteTime": {
     "end_time": "2022-08-18T16:39:11.372258Z",
     "start_time": "2022-08-18T16:39:11.357037Z"
    }
   },
   "outputs": [
    {
     "name": "stdout",
     "output_type": "stream",
     "text": [
      "Value(data=4.0) {Value(data=10.0), Value(data=-6.0)} +\n"
     ]
    }
   ],
   "source": [
    "class Value:\n",
    "    \n",
    "    def __init__(self, data, _children=(), _op='', label=''):\n",
    "        self.data = data\n",
    "        self._prev = set(_children)\n",
    "        self._op = _op\n",
    "        self.label = label\n",
    "        \n",
    "    def __repr__(self):\n",
    "        return f\"Value(data={self.data})\"\n",
    "    \n",
    "    def __add__(self, other):\n",
    "        out = Value(self.data + other.data, (self, other), '+')\n",
    "        return out\n",
    "    \n",
    "    def __mul__(self, other):\n",
    "        out = Value(self.data * other.data, (self, other), '*')\n",
    "        return out\n",
    "    \n",
    "a = Value(2.0, label='a')\n",
    "b = Value(-3.0, label='b')\n",
    "c = Value(10.0, label='c')\n",
    "\n",
    "e = a*b; e.label='e'\n",
    "d = e + c; d.label='d'\n",
    "f = Value(-2.0, label='f')\n",
    "L = d * f; L.label='L'\n",
    "print(d, d._prev, d._op)"
   ]
  },
  {
   "cell_type": "code",
   "execution_count": 54,
   "id": "6c9a1def",
   "metadata": {
    "ExecuteTime": {
     "end_time": "2022-08-18T16:39:11.727972Z",
     "start_time": "2022-08-18T16:39:11.717737Z"
    }
   },
   "outputs": [],
   "source": [
    "from graphviz import Digraph\n",
    "\n",
    "def trace(root):\n",
    "    # builds a set of all nodes and edges in a graph\n",
    "    nodes,edges = set(), set()\n",
    "    def build(v):\n",
    "        if v not in nodes:\n",
    "            nodes.add(v)\n",
    "            for child in v._prev:\n",
    "                edges.add((child,v))\n",
    "                build(child)\n",
    "    build(root)\n",
    "    return nodes, edges\n",
    "            \n",
    "def draw_dot(root):\n",
    "    dot = Digraph(format='svg', graph_attr={'rankdir': 'LR'}) #LR = left to right \n",
    "    \n",
    "    nodes, edges = trace(root)\n",
    "    for n in nodes:\n",
    "        uid = str(id(n))\n",
    "        #for any value in the graph, create a rectangular ('record') node for it\n",
    "        dot.node(name=uid, label = \"{ %s | data %.4f}\" % (n.label, n.data), shape='record')\n",
    "        if n._op:\n",
    "            dot.node(name = uid + n._op, label = n._op)\n",
    "            #and connect this node to it\n",
    "            dot.edge(uid + n._op, uid)\n",
    "\n",
    "    for n1, n2 in edges:\n",
    "        #connect n1 to the op node of n2\n",
    "        dot.edge(str(id(n1)), str(id(n2)) + n2._op)\n",
    "\n",
    "    return dot"
   ]
  },
  {
   "cell_type": "code",
   "execution_count": 58,
   "id": "6fac20b3",
   "metadata": {
    "ExecuteTime": {
     "end_time": "2022-08-18T16:39:32.433532Z",
     "start_time": "2022-08-18T16:39:32.280569Z"
    }
   },
   "outputs": [
    {
     "data": {
      "image/svg+xml": [
       "<?xml version=\"1.0\" encoding=\"UTF-8\" standalone=\"no\"?>\n",
       "<!DOCTYPE svg PUBLIC \"-//W3C//DTD SVG 1.1//EN\"\n",
       " \"http://www.w3.org/Graphics/SVG/1.1/DTD/svg11.dtd\">\n",
       "<!-- Generated by graphviz version 2.49.3 (0)\n",
       " -->\n",
       "<!-- Pages: 1 -->\n",
       "<svg width=\"825pt\" height=\"128pt\"\n",
       " viewBox=\"0.00 0.00 825.00 128.00\" xmlns=\"http://www.w3.org/2000/svg\" xmlns:xlink=\"http://www.w3.org/1999/xlink\">\n",
       "<g id=\"graph0\" class=\"graph\" transform=\"scale(1 1) rotate(0) translate(4 124)\">\n",
       "<polygon fill=\"white\" stroke=\"transparent\" points=\"-4,4 -4,-124 821,-124 821,4 -4,4\"/>\n",
       "<!-- 4783685152 -->\n",
       "<g id=\"node1\" class=\"node\">\n",
       "<title>4783685152</title>\n",
       "<polygon fill=\"none\" stroke=\"black\" points=\"706,-54.5 706,-90.5 817,-90.5 817,-54.5 706,-54.5\"/>\n",
       "<text text-anchor=\"middle\" x=\"718.5\" y=\"-68.8\" font-family=\"Times,serif\" font-size=\"14.00\">L</text>\n",
       "<polyline fill=\"none\" stroke=\"black\" points=\"731,-54.5 731,-90.5 \"/>\n",
       "<text text-anchor=\"middle\" x=\"774\" y=\"-68.8\" font-family=\"Times,serif\" font-size=\"14.00\">data &#45;8.0000</text>\n",
       "</g>\n",
       "<!-- 4783685152* -->\n",
       "<g id=\"node2\" class=\"node\">\n",
       "<title>4783685152*</title>\n",
       "<ellipse fill=\"none\" stroke=\"black\" cx=\"643\" cy=\"-72.5\" rx=\"27\" ry=\"18\"/>\n",
       "<text text-anchor=\"middle\" x=\"643\" y=\"-68.8\" font-family=\"Times,serif\" font-size=\"14.00\">*</text>\n",
       "</g>\n",
       "<!-- 4783685152*&#45;&gt;4783685152 -->\n",
       "<g id=\"edge1\" class=\"edge\">\n",
       "<title>4783685152*&#45;&gt;4783685152</title>\n",
       "<path fill=\"none\" stroke=\"black\" d=\"M670.14,-72.5C677.85,-72.5 686.64,-72.5 695.64,-72.5\"/>\n",
       "<polygon fill=\"black\" stroke=\"black\" points=\"695.85,-76 705.85,-72.5 695.85,-69 695.85,-76\"/>\n",
       "</g>\n",
       "<!-- 4783684240 -->\n",
       "<g id=\"node3\" class=\"node\">\n",
       "<title>4783684240</title>\n",
       "<polygon fill=\"none\" stroke=\"black\" points=\"473,-82.5 473,-118.5 580,-118.5 580,-82.5 473,-82.5\"/>\n",
       "<text text-anchor=\"middle\" x=\"483.5\" y=\"-96.8\" font-family=\"Times,serif\" font-size=\"14.00\">f</text>\n",
       "<polyline fill=\"none\" stroke=\"black\" points=\"494,-82.5 494,-118.5 \"/>\n",
       "<text text-anchor=\"middle\" x=\"537\" y=\"-96.8\" font-family=\"Times,serif\" font-size=\"14.00\">data &#45;2.0000</text>\n",
       "</g>\n",
       "<!-- 4783684240&#45;&gt;4783685152* -->\n",
       "<g id=\"edge8\" class=\"edge\">\n",
       "<title>4783684240&#45;&gt;4783685152*</title>\n",
       "<path fill=\"none\" stroke=\"black\" d=\"M580.06,-87.65C589.44,-85.35 598.99,-83.02 607.69,-80.89\"/>\n",
       "<polygon fill=\"black\" stroke=\"black\" points=\"608.57,-84.28 617.46,-78.5 606.91,-77.48 608.57,-84.28\"/>\n",
       "</g>\n",
       "<!-- 4783683808 -->\n",
       "<g id=\"node4\" class=\"node\">\n",
       "<title>4783683808</title>\n",
       "<polygon fill=\"none\" stroke=\"black\" points=\"474,-27.5 474,-63.5 579,-63.5 579,-27.5 474,-27.5\"/>\n",
       "<text text-anchor=\"middle\" x=\"485.5\" y=\"-41.8\" font-family=\"Times,serif\" font-size=\"14.00\">d</text>\n",
       "<polyline fill=\"none\" stroke=\"black\" points=\"497,-27.5 497,-63.5 \"/>\n",
       "<text text-anchor=\"middle\" x=\"538\" y=\"-41.8\" font-family=\"Times,serif\" font-size=\"14.00\">data 4.0000</text>\n",
       "</g>\n",
       "<!-- 4783683808&#45;&gt;4783685152* -->\n",
       "<g id=\"edge7\" class=\"edge\">\n",
       "<title>4783683808&#45;&gt;4783685152*</title>\n",
       "<path fill=\"none\" stroke=\"black\" d=\"M579.06,-57.66C588.61,-59.91 598.38,-62.21 607.29,-64.31\"/>\n",
       "<polygon fill=\"black\" stroke=\"black\" points=\"606.74,-67.78 617.28,-66.67 608.35,-60.97 606.74,-67.78\"/>\n",
       "</g>\n",
       "<!-- 4783683808+ -->\n",
       "<g id=\"node5\" class=\"node\">\n",
       "<title>4783683808+</title>\n",
       "<ellipse fill=\"none\" stroke=\"black\" cx=\"410\" cy=\"-45.5\" rx=\"27\" ry=\"18\"/>\n",
       "<text text-anchor=\"middle\" x=\"410\" y=\"-41.8\" font-family=\"Times,serif\" font-size=\"14.00\">+</text>\n",
       "</g>\n",
       "<!-- 4783683808+&#45;&gt;4783683808 -->\n",
       "<g id=\"edge2\" class=\"edge\">\n",
       "<title>4783683808+&#45;&gt;4783683808</title>\n",
       "<path fill=\"none\" stroke=\"black\" d=\"M437.27,-45.5C445.22,-45.5 454.31,-45.5 463.57,-45.5\"/>\n",
       "<polygon fill=\"black\" stroke=\"black\" points=\"463.63,-49 473.63,-45.5 463.63,-42 463.63,-49\"/>\n",
       "</g>\n",
       "<!-- 4783685392 -->\n",
       "<g id=\"node6\" class=\"node\">\n",
       "<title>4783685392</title>\n",
       "<polygon fill=\"none\" stroke=\"black\" points=\"0,-83.5 0,-119.5 109,-119.5 109,-83.5 0,-83.5\"/>\n",
       "<text text-anchor=\"middle\" x=\"11.5\" y=\"-97.8\" font-family=\"Times,serif\" font-size=\"14.00\">b</text>\n",
       "<polyline fill=\"none\" stroke=\"black\" points=\"23,-83.5 23,-119.5 \"/>\n",
       "<text text-anchor=\"middle\" x=\"66\" y=\"-97.8\" font-family=\"Times,serif\" font-size=\"14.00\">data &#45;3.0000</text>\n",
       "</g>\n",
       "<!-- 4783683952* -->\n",
       "<g id=\"node9\" class=\"node\">\n",
       "<title>4783683952*</title>\n",
       "<ellipse fill=\"none\" stroke=\"black\" cx=\"172\" cy=\"-73.5\" rx=\"27\" ry=\"18\"/>\n",
       "<text text-anchor=\"middle\" x=\"172\" y=\"-69.8\" font-family=\"Times,serif\" font-size=\"14.00\">*</text>\n",
       "</g>\n",
       "<!-- 4783685392&#45;&gt;4783683952* -->\n",
       "<g id=\"edge9\" class=\"edge\">\n",
       "<title>4783685392&#45;&gt;4783683952*</title>\n",
       "<path fill=\"none\" stroke=\"black\" d=\"M109.19,-88.48C118.41,-86.25 127.76,-83.98 136.31,-81.91\"/>\n",
       "<polygon fill=\"black\" stroke=\"black\" points=\"137.37,-85.25 146.27,-79.5 135.72,-78.45 137.37,-85.25\"/>\n",
       "</g>\n",
       "<!-- 4783684384 -->\n",
       "<g id=\"node7\" class=\"node\">\n",
       "<title>4783684384</title>\n",
       "<polygon fill=\"none\" stroke=\"black\" points=\"2,-28.5 2,-64.5 107,-64.5 107,-28.5 2,-28.5\"/>\n",
       "<text text-anchor=\"middle\" x=\"13.5\" y=\"-42.8\" font-family=\"Times,serif\" font-size=\"14.00\">a</text>\n",
       "<polyline fill=\"none\" stroke=\"black\" points=\"25,-28.5 25,-64.5 \"/>\n",
       "<text text-anchor=\"middle\" x=\"66\" y=\"-42.8\" font-family=\"Times,serif\" font-size=\"14.00\">data 2.0000</text>\n",
       "</g>\n",
       "<!-- 4783684384&#45;&gt;4783683952* -->\n",
       "<g id=\"edge5\" class=\"edge\">\n",
       "<title>4783684384&#45;&gt;4783683952*</title>\n",
       "<path fill=\"none\" stroke=\"black\" d=\"M107.17,-58.58C117.03,-60.88 127.13,-63.25 136.31,-65.39\"/>\n",
       "<polygon fill=\"black\" stroke=\"black\" points=\"135.67,-68.84 146.21,-67.7 137.27,-62.02 135.67,-68.84\"/>\n",
       "</g>\n",
       "<!-- 4783683952 -->\n",
       "<g id=\"node8\" class=\"node\">\n",
       "<title>4783683952</title>\n",
       "<polygon fill=\"none\" stroke=\"black\" points=\"236.5,-55.5 236.5,-91.5 345.5,-91.5 345.5,-55.5 236.5,-55.5\"/>\n",
       "<text text-anchor=\"middle\" x=\"248\" y=\"-69.8\" font-family=\"Times,serif\" font-size=\"14.00\">e</text>\n",
       "<polyline fill=\"none\" stroke=\"black\" points=\"259.5,-55.5 259.5,-91.5 \"/>\n",
       "<text text-anchor=\"middle\" x=\"302.5\" y=\"-69.8\" font-family=\"Times,serif\" font-size=\"14.00\">data &#45;6.0000</text>\n",
       "</g>\n",
       "<!-- 4783683952&#45;&gt;4783683808+ -->\n",
       "<g id=\"edge6\" class=\"edge\">\n",
       "<title>4783683952&#45;&gt;4783683808+</title>\n",
       "<path fill=\"none\" stroke=\"black\" d=\"M345.71,-60.65C355.48,-58.31 365.44,-55.92 374.47,-53.76\"/>\n",
       "<polygon fill=\"black\" stroke=\"black\" points=\"375.31,-57.16 384.22,-51.43 373.68,-50.35 375.31,-57.16\"/>\n",
       "</g>\n",
       "<!-- 4783683952*&#45;&gt;4783683952 -->\n",
       "<g id=\"edge3\" class=\"edge\">\n",
       "<title>4783683952*&#45;&gt;4783683952</title>\n",
       "<path fill=\"none\" stroke=\"black\" d=\"M199.26,-73.5C207.27,-73.5 216.46,-73.5 225.85,-73.5\"/>\n",
       "<polygon fill=\"black\" stroke=\"black\" points=\"226.06,-77 236.06,-73.5 226.06,-70 226.06,-77\"/>\n",
       "</g>\n",
       "<!-- 4783684576 -->\n",
       "<g id=\"node10\" class=\"node\">\n",
       "<title>4783684576</title>\n",
       "<polygon fill=\"none\" stroke=\"black\" points=\"235,-0.5 235,-36.5 347,-36.5 347,-0.5 235,-0.5\"/>\n",
       "<text text-anchor=\"middle\" x=\"246.5\" y=\"-14.8\" font-family=\"Times,serif\" font-size=\"14.00\">c</text>\n",
       "<polyline fill=\"none\" stroke=\"black\" points=\"258,-0.5 258,-36.5 \"/>\n",
       "<text text-anchor=\"middle\" x=\"302.5\" y=\"-14.8\" font-family=\"Times,serif\" font-size=\"14.00\">data 10.0000</text>\n",
       "</g>\n",
       "<!-- 4783684576&#45;&gt;4783683808+ -->\n",
       "<g id=\"edge4\" class=\"edge\">\n",
       "<title>4783684576&#45;&gt;4783683808+</title>\n",
       "<path fill=\"none\" stroke=\"black\" d=\"M347.07,-31.21C356.34,-33.35 365.73,-35.51 374.29,-37.49\"/>\n",
       "<polygon fill=\"black\" stroke=\"black\" points=\"373.74,-40.96 384.27,-39.79 375.32,-34.13 373.74,-40.96\"/>\n",
       "</g>\n",
       "</g>\n",
       "</svg>\n"
      ],
      "text/plain": [
       "<graphviz.graphs.Digraph at 0x11bd1fd90>"
      ]
     },
     "execution_count": 58,
     "metadata": {},
     "output_type": "execute_result"
    }
   ],
   "source": [
    "draw_dot(L)"
   ]
  },
  {
   "cell_type": "code",
   "execution_count": null,
   "id": "6d9584d2",
   "metadata": {},
   "outputs": [],
   "source": []
  },
  {
   "cell_type": "code",
   "execution_count": null,
   "id": "5d8fbb9b",
   "metadata": {},
   "outputs": [],
   "source": []
  }
 ],
 "metadata": {
  "kernelspec": {
   "display_name": "Python 3 (ipykernel)",
   "language": "python",
   "name": "python3"
  },
  "language_info": {
   "codemirror_mode": {
    "name": "ipython",
    "version": 3
   },
   "file_extension": ".py",
   "mimetype": "text/x-python",
   "name": "python",
   "nbconvert_exporter": "python",
   "pygments_lexer": "ipython3",
   "version": "3.8.12"
  },
  "toc": {
   "base_numbering": 1,
   "nav_menu": {},
   "number_sections": true,
   "sideBar": true,
   "skip_h1_title": false,
   "title_cell": "Table of Contents",
   "title_sidebar": "Contents",
   "toc_cell": false,
   "toc_position": {},
   "toc_section_display": true,
   "toc_window_display": false
  },
  "varInspector": {
   "cols": {
    "lenName": 16,
    "lenType": 16,
    "lenVar": 40
   },
   "kernels_config": {
    "python": {
     "delete_cmd_postfix": "",
     "delete_cmd_prefix": "del ",
     "library": "var_list.py",
     "varRefreshCmd": "print(var_dic_list())"
    },
    "r": {
     "delete_cmd_postfix": ") ",
     "delete_cmd_prefix": "rm(",
     "library": "var_list.r",
     "varRefreshCmd": "cat(var_dic_list()) "
    }
   },
   "types_to_exclude": [
    "module",
    "function",
    "builtin_function_or_method",
    "instance",
    "_Feature"
   ],
   "window_display": false
  }
 },
 "nbformat": 4,
 "nbformat_minor": 5
}
