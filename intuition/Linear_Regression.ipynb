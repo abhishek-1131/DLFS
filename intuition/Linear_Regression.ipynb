{
 "cells": [
  {
   "cell_type": "code",
   "execution_count": 30,
   "id": "958b7e37",
   "metadata": {
    "ExecuteTime": {
     "end_time": "2022-07-20T05:59:55.974064Z",
     "start_time": "2022-07-20T05:59:51.662021Z"
    }
   },
   "outputs": [],
   "source": [
    "import numpy as np\n",
    "from numpy import ndarray\n",
    "import matplotlib.pyplot as plt\n",
    "\n",
    "from typing import Callable, Dict, Tuple, List\n",
    "\n",
    "np.set_printoptions(precision=4)"
   ]
  },
  {
   "cell_type": "code",
   "execution_count": 2,
   "id": "13a5b1b2",
   "metadata": {
    "ExecuteTime": {
     "end_time": "2022-07-19T17:13:53.037809Z",
     "start_time": "2022-07-19T17:13:52.994261Z"
    }
   },
   "outputs": [],
   "source": [
    "%load_ext autoreload\n",
    "%autoreload 2"
   ]
  },
  {
   "cell_type": "markdown",
   "id": "62eaf31c",
   "metadata": {},
   "source": [
    "### Data Prep"
   ]
  },
  {
   "cell_type": "code",
   "execution_count": 8,
   "id": "60be11f1",
   "metadata": {
    "ExecuteTime": {
     "end_time": "2022-07-20T05:23:20.238637Z",
     "start_time": "2022-07-20T05:23:20.206052Z"
    }
   },
   "outputs": [],
   "source": [
    "from sklearn.datasets import load_boston\n",
    "boston = load_boston()\n",
    "\n",
    "data = boston.data\n",
    "target = boston.target\n",
    "features = boston.feature_names"
   ]
  },
  {
   "cell_type": "code",
   "execution_count": 9,
   "id": "40cbb7c2",
   "metadata": {
    "ExecuteTime": {
     "end_time": "2022-07-20T05:23:20.715310Z",
     "start_time": "2022-07-20T05:23:20.686459Z"
    }
   },
   "outputs": [
    {
     "name": "stdout",
     "output_type": "stream",
     "text": [
      "(506, 13) (506,)\n"
     ]
    }
   ],
   "source": [
    "print(data.shape, target.shape)"
   ]
  },
  {
   "cell_type": "code",
   "execution_count": 20,
   "id": "36ed0a5c",
   "metadata": {
    "ExecuteTime": {
     "end_time": "2022-07-20T05:50:37.603675Z",
     "start_time": "2022-07-20T05:50:37.545088Z"
    }
   },
   "outputs": [],
   "source": [
    "from sklearn.preprocessing import StandardScaler\n",
    "s = StandardScaler()\n",
    "data = s.fit_transform(data)"
   ]
  },
  {
   "cell_type": "code",
   "execution_count": 21,
   "id": "e47a9e24",
   "metadata": {
    "ExecuteTime": {
     "end_time": "2022-07-20T05:51:06.439742Z",
     "start_time": "2022-07-20T05:51:03.055731Z"
    }
   },
   "outputs": [],
   "source": [
    "from sklearn.model_selection import train_test_split\n",
    "X_train, X_test, y_train, y_test = train_test_split(data, target, test_size=0.3, random_state=80718)\n",
    "\n",
    "y_train, y_test = y_train.reshape(-1, 1), y_test.reshape(-1, 1)"
   ]
  },
  {
   "cell_type": "markdown",
   "id": "6112c646",
   "metadata": {
    "ExecuteTime": {
     "end_time": "2022-07-03T06:36:13.186117Z",
     "start_time": "2022-07-03T06:36:13.154198Z"
    }
   },
   "source": [
    "### Manual Linear Regression"
   ]
  },
  {
   "cell_type": "code",
   "execution_count": 27,
   "id": "a6faa719",
   "metadata": {
    "ExecuteTime": {
     "end_time": "2022-07-20T05:58:59.466295Z",
     "start_time": "2022-07-20T05:58:59.404051Z"
    }
   },
   "outputs": [],
   "source": [
    "def forward_pass(X_batch: ndarray,\n",
    "                y_batch: ndarray,\n",
    "                weights: Dict[str, ndarray]\n",
    "                ) -> Tuple[float, Dict[str, ndarray]]:\n",
    "    \n",
    "    #generate predictions and calculate loss\n",
    "    \n",
    "    #assert batch sizes of X and Y are equal\n",
    "    assert X_batch.shape[0] == y_batch.shape[0]\n",
    "    #assert shape matching criteria for matmul\n",
    "    assert X_batch.shape[1] == weights['W'].shape[0]\n",
    "    #assert that B is simply a 1x1 ndarray\n",
    "    assert weights['B'].shape[0] == weights['B'].shape[1] == 1\n",
    "\n",
    "    #forward pass\n",
    "    N = np.dot(X_batch, weights['W'])\n",
    "    P = N + weights['B']\n",
    "    loss = np.mean(np.power(y_batch - P, 2))\n",
    "    \n",
    "    #saving information computed on forward pass\n",
    "    forward_info: Dict[str, ndarray] = {}\n",
    "    forward_info['X'] = X_batch\n",
    "    forward_info['N'] = N\n",
    "    forward_info['P'] = P\n",
    "    forward_info['y'] = y_batch\n",
    "    \n",
    "    return forward_info, loss"
   ]
  },
  {
   "cell_type": "code",
   "execution_count": 12,
   "id": "bd2f7b70",
   "metadata": {
    "ExecuteTime": {
     "end_time": "2022-07-20T05:26:33.636254Z",
     "start_time": "2022-07-20T05:26:33.610282Z"
    }
   },
   "outputs": [],
   "source": [
    "def permute_data(X: ndarray, y:ndarray):\n",
    "    #permute  X and y using the same permutation along axis=0\n",
    "    perm = np.random.permutation(X.shape[0])\n",
    "    return X[perm], y[perm]"
   ]
  },
  {
   "cell_type": "code",
   "execution_count": 25,
   "id": "7fcecb94",
   "metadata": {
    "ExecuteTime": {
     "end_time": "2022-07-20T05:55:12.521710Z",
     "start_time": "2022-07-20T05:55:12.478574Z"
    }
   },
   "outputs": [],
   "source": [
    "def loss_gradients(forward_info: Dict[str, ndarray],\n",
    "                   weights: Dict[str, ndarray]) -> Dict[str, ndarray]:\n",
    "    \n",
    "    '''\n",
    "    compute dLdW and dLdB for the step-by-step linear regression model\n",
    "    '''\n",
    "    batch_size = forward_info['X'].shape[0]\n",
    "    \n",
    "    dLdP = -2 * (forward_info['y'] - forward_info['P'])\n",
    "    \n",
    "    dPdN = np.ones_like(forward_info['N'])\n",
    "    \n",
    "    dPdB = np.ones_like(weights['B'])\n",
    "    \n",
    "    dLdN = dLdP * dPdN\n",
    "    \n",
    "    dNdW = np.transpose(forward_info['X'], (1,0))\n",
    "    \n",
    "    #applying matmul for dLdW, with dNdW on the left\n",
    "    dLdW = np.dot(dNdW, dLdN)\n",
    "    \n",
    "    #need to sum along dim representing the batch size\n",
    "    dLdB = (dLdP * dPdB).sum(axis=0)\n",
    "    \n",
    "    loss_gradients: Dict[str, ndarray] = {}\n",
    "    loss_gradients['W'] = dLdW\n",
    "    loss_gradients['B'] = dLdB\n",
    "    \n",
    "    return loss_gradients"
   ]
  },
  {
   "cell_type": "code",
   "execution_count": 15,
   "id": "2127ea3f",
   "metadata": {
    "ExecuteTime": {
     "end_time": "2022-07-20T05:36:15.209400Z",
     "start_time": "2022-07-20T05:36:15.159864Z"
    }
   },
   "outputs": [],
   "source": [
    "Batch = Tuple[ndarray, ndarray]\n",
    "\n",
    "def generate_batch(X: ndarray,\n",
    "                  y: ndarray,\n",
    "                  start: int = 0,\n",
    "                  batch_size: int = 10) -> Batch:\n",
    "    #Generate batch from X and y, given a start position\n",
    "    \n",
    "    assert X.ndim == y.ndim == 2\n",
    "    #X and Y must be 2-dim\n",
    "    \n",
    "    if start+batch_size > X.shape[0]:\n",
    "        batch_size = X.shape[0] - start\n",
    "        \n",
    "    X_batch, y_batch = X[start:start+batch_size], y[start:start+batch_size]\n",
    "    \n",
    "    return X_batch, y_batch"
   ]
  },
  {
   "cell_type": "code",
   "execution_count": 23,
   "id": "4379e214",
   "metadata": {
    "ExecuteTime": {
     "end_time": "2022-07-20T05:53:14.559670Z",
     "start_time": "2022-07-20T05:53:14.530561Z"
    }
   },
   "outputs": [],
   "source": [
    "def init_weights(n_in: int) -> Dict[str, ndarray]:\n",
    "    \n",
    "    #initialize weights on first forward pass of model\n",
    "    \n",
    "    weights: Dict[str, ndarray] = {}\n",
    "    W = np.random.randn(n_in, 1)\n",
    "    B = np.random.randn(1,1)\n",
    "    \n",
    "    weights['W'] = W\n",
    "    weights['B'] = B\n",
    "    \n",
    "    return weights"
   ]
  },
  {
   "cell_type": "code",
   "execution_count": 18,
   "id": "2d560225",
   "metadata": {
    "ExecuteTime": {
     "end_time": "2022-07-20T05:45:20.868677Z",
     "start_time": "2022-07-20T05:45:20.836835Z"
    }
   },
   "outputs": [],
   "source": [
    "def train(X: ndarray,\n",
    "          y: ndarray,\n",
    "          n_iter: int = 1000,\n",
    "          learning_rate: float = 0.01,\n",
    "          batch_size: int = 100,\n",
    "          return_losses: bool = False,\n",
    "          return_weights: bool = False,\n",
    "          seed: int = 1) -> None:\n",
    "        \n",
    "        #train a model for certain number of epochs\n",
    "        \n",
    "        if seed:\n",
    "            np.random.seed(seed)\n",
    "        start = 0\n",
    "        \n",
    "        # initialize weights\n",
    "        weights = init_weights(X.shape[1])\n",
    "        \n",
    "        #permute data\n",
    "        X, y = permute_data(X,y)\n",
    "        \n",
    "        if return_losses:\n",
    "            losses = []\n",
    "            \n",
    "        for i in range(n_iter):\n",
    "            \n",
    "            #generate batch\n",
    "            if start >= X.shape[0]:\n",
    "                X, y = permute_data(X, y)\n",
    "                start = 0\n",
    "        \n",
    "            X_batch, y_batch = generate_batch(X, y, start, batch_size)\n",
    "            start += batch_size\n",
    "            \n",
    "            forward_info, loss = forward_pass(X_batch, y_batch, weights)\n",
    "            \n",
    "            if return_losses:\n",
    "                losses.append(loss)\n",
    "                \n",
    "            loss_grads = loss_gradients(forward_info, weights)\n",
    "            for key in weights.keys():\n",
    "                weights[key] -= learning_rate * loss_grads[key]\n",
    "        \n",
    "        if return_weights:\n",
    "            return losses, weights\n",
    "        \n",
    "        return None\n"
   ]
  },
  {
   "cell_type": "code",
   "execution_count": 99,
   "id": "61c8e499",
   "metadata": {
    "ExecuteTime": {
     "end_time": "2022-07-20T07:52:54.090693Z",
     "start_time": "2022-07-20T07:52:54.018989Z"
    }
   },
   "outputs": [],
   "source": [
    "train_info = train(X_train, y_train,\n",
    "                  n_iter = 1000,\n",
    "                  learning_rate = 0.001,\n",
    "                  batch_size = 23,\n",
    "                  return_losses=True,\n",
    "                  return_weights=True,\n",
    "                  seed=3101)\n",
    "\n",
    "losses = train_info[0]\n",
    "weights = train_info[1]"
   ]
  },
  {
   "cell_type": "code",
   "execution_count": 100,
   "id": "9cb0c64b",
   "metadata": {
    "ExecuteTime": {
     "end_time": "2022-07-20T07:52:56.751096Z",
     "start_time": "2022-07-20T07:52:56.657784Z"
    }
   },
   "outputs": [
    {
     "data": {
      "text/plain": [
       "[<matplotlib.lines.Line2D at 0x159657100>]"
      ]
     },
     "execution_count": 100,
     "metadata": {},
     "output_type": "execute_result"
    },
    {
     "data": {
      "image/png": "[encoded data removed]",
      "text/plain": [
       "<Figure size 432x288 with 1 Axes>"
      ]
     },
     "metadata": {
      "needs_background": "light"
     },
     "output_type": "display_data"
    }
   ],
   "source": [
    "plt.plot(list(range(1000)), losses)"
   ]
  },
  {
   "cell_type": "code",
   "execution_count": 101,
   "id": "acf89a9d",
   "metadata": {
    "ExecuteTime": {
     "end_time": "2022-07-20T07:52:56.912946Z",
     "start_time": "2022-07-20T07:52:56.898366Z"
    }
   },
   "outputs": [],
   "source": [
    "def predict(X: ndarray,\n",
    "           weights: Dict[str, ndarray]):\n",
    "    \n",
    "    #generate predictions\n",
    "    \n",
    "    N = np.dot(X, weights['W'])\n",
    "    \n",
    "    return N + weights['B']"
   ]
  },
  {
   "cell_type": "code",
   "execution_count": 102,
   "id": "b45144a1",
   "metadata": {
    "ExecuteTime": {
     "end_time": "2022-07-20T07:52:57.103308Z",
     "start_time": "2022-07-20T07:52:57.087704Z"
    }
   },
   "outputs": [],
   "source": [
    "preds = predict(X_test, weights)"
   ]
  },
  {
   "cell_type": "code",
   "execution_count": 103,
   "id": "f5bf31a5",
   "metadata": {
    "ExecuteTime": {
     "end_time": "2022-07-20T07:52:57.279030Z",
     "start_time": "2022-07-20T07:52:57.264123Z"
    }
   },
   "outputs": [],
   "source": [
    "#model errors\n",
    "\n",
    "def mae(preds: ndarray, actuals: ndarray):\n",
    "    #compute mean absolute error\n",
    "    return np.mean(np.abs(preds - actuals))\n",
    "\n",
    "def rmse(preds: ndarray, actuals: ndarray):\n",
    "    #compute root mean squared error\n",
    "    return np.sqrt(np.mean(np.power(preds-actuals, 2)))"
   ]
  },
  {
   "cell_type": "code",
   "execution_count": 104,
   "id": "0d133dcd",
   "metadata": {
    "ExecuteTime": {
     "end_time": "2022-07-20T07:52:57.491150Z",
     "start_time": "2022-07-20T07:52:57.475645Z"
    }
   },
   "outputs": [
    {
     "name": "stdout",
     "output_type": "stream",
     "text": [
      "mean absolute error : 3.556\n",
      "root mean squared error : 0.2286\n"
     ]
    }
   ],
   "source": [
    "print(f'mean absolute error : {round(mae(preds, y_test), 4)}')\n",
    "print(f'root mean squared error : {round(rmse(preds, y_test)/y_test.mean(), 4)}')"
   ]
  },
  {
   "cell_type": "markdown",
   "id": "40d25912",
   "metadata": {},
   "source": [
    "RMSE is ~24% on average of y"
   ]
  },
  {
   "cell_type": "code",
   "execution_count": 105,
   "id": "0ed3739c",
   "metadata": {
    "ExecuteTime": {
     "end_time": "2022-07-20T07:52:58.325308Z",
     "start_time": "2022-07-20T07:52:58.287190Z"
    }
   },
   "outputs": [
    {
     "data": {
      "text/plain": [
       "array([50.])"
      ]
     },
     "execution_count": 105,
     "metadata": {},
     "output_type": "execute_result"
    }
   ],
   "source": [
    "max(max(preds), max(y_test))"
   ]
  },
  {
   "cell_type": "code",
   "execution_count": 106,
   "id": "c6490e51",
   "metadata": {
    "ExecuteTime": {
     "end_time": "2022-07-20T07:52:59.180682Z",
     "start_time": "2022-07-20T07:52:59.074457Z"
    }
   },
   "outputs": [
    {
     "data": {
      "image/png": "[encoded data removed]",
      "text/plain": [
       "<Figure size 432x288 with 1 Axes>"
      ]
     },
     "metadata": {
      "needs_background": "light"
     },
     "output_type": "display_data"
    }
   ],
   "source": [
    "plt.xlabel(\"predictions\")\n",
    "plt.ylabel(\"actual\")\n",
    "plt.xlim([0,51])\n",
    "plt.ylim([0,51])\n",
    "plt.title(\"Predicted vs Actual Values for \\ncustom Linear Regression Model\")\n",
    "plt.plot([0,51], [0,51])\n",
    "plt.scatter(preds, y_test);"
   ]
  },
  {
   "cell_type": "code",
   "execution_count": 82,
   "id": "4a3aa584",
   "metadata": {
    "ExecuteTime": {
     "end_time": "2022-07-20T07:49:11.452750Z",
     "start_time": "2022-07-20T07:49:11.424693Z"
    }
   },
   "outputs": [
    {
     "name": "stdout",
     "output_type": "stream",
     "text": [
      "(152, 13)\n",
      "(152, 12)\n"
     ]
    }
   ],
   "source": [
    "print(np.shape(X_test))\n",
    "print(np.shape(X_test[:,:-1]))"
   ]
  },
  {
   "cell_type": "code",
   "execution_count": null,
   "id": "c2ce909a",
   "metadata": {},
   "outputs": [],
   "source": []
  }
 ],
 "metadata": {
  "kernelspec": {
   "display_name": "Python 3 (ipykernel)",
   "language": "python",
   "name": "python3"
  },
  "language_info": {
   "codemirror_mode": {
    "name": "ipython",
    "version": 3
   },
   "file_extension": ".py",
   "mimetype": "text/x-python",
   "name": "python",
   "nbconvert_exporter": "python",
   "pygments_lexer": "ipython3",
   "version": "3.8.12"
  },
  "toc": {
   "base_numbering": 1,
   "nav_menu": {},
   "number_sections": true,
   "sideBar": true,
   "skip_h1_title": false,
   "title_cell": "Table of Contents",
   "title_sidebar": "Contents",
   "toc_cell": false,
   "toc_position": {},
   "toc_section_display": true,
   "toc_window_display": false
  },
  "varInspector": {
   "cols": {
    "lenName": 16,
    "lenType": 16,
    "lenVar": 40
   },
   "kernels_config": {
    "python": {
     "delete_cmd_postfix": "",
     "delete_cmd_prefix": "del ",
     "library": "var_list.py",
     "varRefreshCmd": "print(var_dic_list())"
    },
    "r": {
     "delete_cmd_postfix": ") ",
     "delete_cmd_prefix": "rm(",
     "library": "var_list.r",
     "varRefreshCmd": "cat(var_dic_list()) "
    }
   },
   "types_to_exclude": [
    "module",
    "function",
    "builtin_function_or_method",
    "instance",
    "_Feature"
   ],
   "window_display": false
  }
 },
 "nbformat": 4,
 "nbformat_minor": 5
}
